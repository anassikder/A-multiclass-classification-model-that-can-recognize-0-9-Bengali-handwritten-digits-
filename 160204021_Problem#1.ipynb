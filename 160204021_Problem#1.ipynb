{
  "nbformat": 4,
  "nbformat_minor": 0,
  "metadata": {
    "colab": {
      "name": "160204021_Problem#1.ipynb",
      "provenance": [],
      "collapsed_sections": []
    },
    "kernelspec": {
      "display_name": "Python 3",
      "language": "python",
      "name": "python3"
    },
    "language_info": {
      "codemirror_mode": {
        "name": "ipython",
        "version": 3
      },
      "file_extension": ".py",
      "mimetype": "text/x-python",
      "name": "python",
      "nbconvert_exporter": "python",
      "pygments_lexer": "ipython3",
      "version": "3.8.5"
    }
  },
  "cells": [
    {
      "cell_type": "markdown",
      "metadata": {
        "id": "GdX7OFO1Q1hJ"
      },
      "source": [
        "**NumtaDB** is a database.  The NumtaDB database contains handwritten Bengali digits (০ through ৯) and can provide a baseline for testing Bengali digit recognition using the machine and deep learning architecture.\r\n",
        "\r\n",
        "<div align=\"center\">\r\n",
        "<img src=\"https://drive.google.com/uc?id=1Y6Xy0VzlVYmKp-4ZZ8UNaCZ1mBT5WxP7\" width=\"300\">\r\n",
        "<img src=\"https://drive.google.com/uc?id=1TtnZP23KR-WRAvlXAIWNY_9zGIAiM_h0\"width=\"300\">\r\n",
        "<figcaption>figure 1: NumtaDB dataset Snapshot</figcaption>\r\n",
        "</div>\r\n",
        "\r\n"
      ]
    },
    {
      "cell_type": "markdown",
      "metadata": {
        "id": "IVzXN3AiSCSH"
      },
      "source": [
        "<div align=\"center\">\r\n",
        "<img src=\"https://drive.google.com/uc?id=1xe_bR1x1IDN-stNX5guGR6pfm3F5RQ3Q\" width=\"600\">\r\n",
        "<figcaption>figure 2: NumtDB Network </figcaption>\r\n",
        "<div/>\r\n",
        "\r\n",
        "\r\n",
        "\r\n"
      ]
    },
    {
      "cell_type": "markdown",
      "metadata": {
        "id": "GSnKmGjTXqlT"
      },
      "source": [
        "**Importing Necessary Libaries**"
      ]
    },
    {
      "cell_type": "code",
      "metadata": {
        "id": "fXR33WfI43yG"
      },
      "source": [
        "import os\n",
        "from os import path\n",
        "import shutil\n",
        "import numpy as np\n",
        "import pandas as pd\n",
        "import torch\n",
        "import torch.nn as nn\n",
        "import torch.nn.functional as F\n",
        "import torch.optim as optim\n",
        "from torch.utils.data import Dataset\n",
        "from torch.utils.data.sampler import SubsetRandomSampler\n",
        "from torchvision import datasets, transforms, models\n",
        "import matplotlib\n",
        "import matplotlib.pyplot as plt\n",
        "from PIL import Image"
      ],
      "execution_count": null,
      "outputs": []
    },
    {
      "cell_type": "markdown",
      "metadata": {
        "id": "jQ3ScHMBXZdo"
      },
      "source": [
        "#**Pre Processing**\r\n",
        "\r\n",
        "---\r\n",
        "In the website([https://www.kaggle.com/BengaliAI/numta](https://))I found a 2GB file to download the NumtaDB dataset.From there, I found the training image dataset is divided into five folders alongside five CSV files. When I load the dataset in train Model It through an error said '**stack expects each tensor to be equal size, but got [1,28,28] at entry 0 and [1,29,28] at entry 3**'.I was really confused as I reshaped all images into 28*28 dimensions while putting them in the trained model. After a lot of trial and trial, I found 2 folders of train sets were in a different shape than other threes. So I reshape those two folders in the same dimension as the other three. From the snapshots, the dimensions issue is clearly visible.\r\n",
        "\r\n",
        "<div align=\"center\">\r\n",
        "<img src=\"https://drive.google.com/uc?id=1q0hItTGVHODPqqgOQWB5t0X43OgKyJLm\" width=\"300\">\r\n",
        "<img src=\"https://drive.google.com/uc?id=1RnwYRErytK0ei6LYMU2MuaXOEW4OeejM\" width=\"300\">\r\n",
        "<figcaption>figure 3: Dimension Issue on folders</figcaption>\r\n",
        "</div>\r\n",
        "\r\n",
        "# Re-size Code\r\n",
        "```\r\n",
        "\r\n",
        "from PIL import Image\r\n",
        "import glob\r\n",
        "import os\r\n",
        "\r\n",
        "# new folder path (may need to alter for Windows OS)\r\n",
        "# change path to your path\r\n",
        "path = 'C:/Users/Anas/Downloads/archivexx/training-b'\r\n",
        "# create new folder\r\n",
        "if not os.path.exists(path):\r\n",
        "    os.makedirs(path)\r\n",
        "\r\n",
        "# loop over existing images and resize\r\n",
        "# change path to your path\r\n",
        "for filename in glob.glob('C:/Users/Anas/Downloads/ archive/training-b/*.png'):\r\n",
        "    img = Image.open(filename).resize((180,180))\r\n",
        "    # save resized images to new folder with existing filename\r\n",
        "    img.save('{}{}{}'.format(path,'/',os.path.split(filename)[1]))\r\n",
        "```\r\n",
        "Labels are correctly done by the authors to performing my assignment.So I did not make any change in CSV files.\r\n",
        "\r\n"
      ]
    },
    {
      "cell_type": "markdown",
      "metadata": {
        "id": "bEusYYkSgyqi"
      },
      "source": [
        "- **Input dimension:**\r\n",
        "  - Size of image: $28 \\times 28 = 784$\r\n",
        "\r\n",
        "- **Output dimension: 10**\r\n",
        "  - ০   ১   ২   ৩   ৪   ৫   ৬   ৭   ৮   ৯ \r\n",
        "\r\n",
        "\r\n",
        "*   **Dataset Length : 72045**\r\n",
        "\r\n",
        "\r\n",
        "\r\n",
        "> As I was able to solve the problem of **dimension error** in two folder , I took all the datasets for my assignment.\r\n",
        "\r\n",
        "\r\n",
        "\r\n",
        "\r\n",
        "\r\n"
      ]
    },
    {
      "cell_type": "markdown",
      "metadata": {
        "id": "yc0p6pVie0SI"
      },
      "source": [
        "**For Accessing Drive Contents**"
      ]
    },
    {
      "cell_type": "code",
      "metadata": {
        "colab": {
          "base_uri": "https://localhost:8080/"
        },
        "id": "pvFPNlc55B68",
        "outputId": "2dd8791e-5cd4-4c5c-8e1f-8ca3dc0718e5"
      },
      "source": [
        "from google.colab import drive\r\n",
        "\r\n",
        "drive.mount('/content/gdrive')"
      ],
      "execution_count": null,
      "outputs": [
        {
          "output_type": "stream",
          "text": [
            "Drive already mounted at /content/gdrive; to attempt to forcibly remount, call drive.mount(\"/content/gdrive\", force_remount=True).\n"
          ],
          "name": "stdout"
        }
      ]
    },
    {
      "cell_type": "markdown",
      "metadata": {
        "id": "DWVnsa9We5hv"
      },
      "source": [
        "**Google Drive directory for Files**"
      ]
    },
    {
      "cell_type": "code",
      "metadata": {
        "colab": {
          "base_uri": "https://localhost:8080/"
        },
        "id": "fqbv1imR43yH",
        "outputId": "de2cfd3a-f1c6-481c-8ced-b10c04f57d3b"
      },
      "source": [
        "PATH = '/content/gdrive/MyDrive/sc_data_as1/namtadb/'\n",
        "os.listdir(PATH)"
      ],
      "execution_count": null,
      "outputs": [
        {
          "output_type": "execute_result",
          "data": {
            "text/plain": [
              "['training-a.csv',\n",
              " 'training-c.csv',\n",
              " 'training-b.csv',\n",
              " 'training-d.csv',\n",
              " 'training-e.csv',\n",
              " 'training-a',\n",
              " 'training-b',\n",
              " 'training-c',\n",
              " 'training-d',\n",
              " 'training-e',\n",
              " 'trainx',\n",
              " 'trainy',\n",
              " 'Namta_logistic1.pkl',\n",
              " 'Namta_logistic3.pkl',\n",
              " 'Namta_logistic4.pkl',\n",
              " 'Namta_logistic2.pkl',\n",
              " 'Namta_logistic5.pkl',\n",
              " 'Namta_logistic6.pkl']"
            ]
          },
          "metadata": {
            "tags": []
          },
          "execution_count": 55
        }
      ]
    },
    {
      "cell_type": "markdown",
      "metadata": {
        "id": "lQE51Lf1fCPO"
      },
      "source": [
        "**A function for reading data from CSV files**"
      ]
    },
    {
      "cell_type": "code",
      "metadata": {
        "id": "JT_9qTDN43yI"
      },
      "source": [
        "def showRawTrainingSamples(csv_filename):\n",
        "  df = pd.read_csv(PATH + csv_filename)\n",
        "  print(csv_filename)\n",
        "  print(df.columns)\n",
        "  return df"
      ],
      "execution_count": null,
      "outputs": []
    },
    {
      "cell_type": "code",
      "metadata": {
        "colab": {
          "base_uri": "https://localhost:8080/"
        },
        "id": "Y_AvoDxC43yI",
        "outputId": "0df5380d-7d95-4d42-ae30-6a12451f33d9"
      },
      "source": [
        "a_csv = showRawTrainingSamples('training-a.csv')\n",
        "b_csv = showRawTrainingSamples('training-b.csv')\n",
        "c_csv = showRawTrainingSamples('training-c.csv')\n",
        "d_csv = showRawTrainingSamples('training-d.csv')\n",
        "e_csv = showRawTrainingSamples('training-e.csv')"
      ],
      "execution_count": null,
      "outputs": [
        {
          "output_type": "stream",
          "text": [
            "training-a.csv\n",
            "Index(['filename', 'original filename', 'scanid', 'digit',\n",
            "       'database name original', 'contributing team', 'database name'],\n",
            "      dtype='object')\n",
            "training-b.csv\n",
            "Index(['filename', 'original filename', 'scanid', 'digit',\n",
            "       'database name original', 'contributing team', 'database name'],\n",
            "      dtype='object')\n",
            "training-c.csv\n",
            "Index(['filename', 'original filename', 'scanid', 'digit',\n",
            "       'database name original', 'contributing team', 'database name'],\n",
            "      dtype='object')\n",
            "training-d.csv\n",
            "Index(['original filename', 'scanid', 'digit', 'num', 'database name original',\n",
            "       'database name', 'filename'],\n",
            "      dtype='object')\n",
            "training-e.csv\n",
            "Index(['filename', 'original filename', 'districtid', 'institutionid',\n",
            "       'gender', 'age', 'datestamp', 'scanid', 'digit',\n",
            "       'database name original', 'database name'],\n",
            "      dtype='object')\n"
          ],
          "name": "stdout"
        }
      ]
    },
    {
      "cell_type": "code",
      "metadata": {
        "id": "BU-ishMn43yJ"
      },
      "source": [
        "def dropColumns(csv_file):\n",
        "  csv_file = csv_file[['filename', 'digit']]\n",
        "  print(csv_file)\n",
        "  print(csv_file.iloc[:5, :])   #First 5 Rows of the CSV File\n",
        "  print(\"=============================\")\n",
        "  return csv_file"
      ],
      "execution_count": null,
      "outputs": []
    },
    {
      "cell_type": "code",
      "metadata": {
        "colab": {
          "base_uri": "https://localhost:8080/"
        },
        "id": "NClbZAfU43yJ",
        "outputId": "0ba490a2-31ed-4dd5-8fec-7f8397376b54"
      },
      "source": [
        "a_csv = dropColumns(a_csv)\n",
        "b_csv = dropColumns(b_csv)\n",
        "c_csv = dropColumns(c_csv)\n",
        "d_csv = dropColumns(d_csv)\n",
        "e_csv = dropColumns(e_csv)"
      ],
      "execution_count": null,
      "outputs": [
        {
          "output_type": "stream",
          "text": [
            "         filename  digit\n",
            "0      a00000.png      5\n",
            "1      a00001.png      3\n",
            "2      a00002.png      1\n",
            "3      a00003.png      7\n",
            "4      a00004.png      0\n",
            "...           ...    ...\n",
            "19697  a19697.png      4\n",
            "19698  a19698.png      3\n",
            "19699  a19699.png      8\n",
            "19700  a19700.png      3\n",
            "19701  a19701.png      8\n",
            "\n",
            "[19702 rows x 2 columns]\n",
            "     filename  digit\n",
            "0  a00000.png      5\n",
            "1  a00001.png      3\n",
            "2  a00002.png      1\n",
            "3  a00003.png      7\n",
            "4  a00004.png      0\n",
            "=============================\n",
            "       filename  digit\n",
            "0    b00000.png      0\n",
            "1    b00001.png      2\n",
            "2    b00002.png      5\n",
            "3    b00003.png      2\n",
            "4    b00004.png      5\n",
            "..          ...    ...\n",
            "354  b00354.png      5\n",
            "355  b00355.png      9\n",
            "356  b00356.png      2\n",
            "357  b00357.png      1\n",
            "358  b00358.png      2\n",
            "\n",
            "[359 rows x 2 columns]\n",
            "     filename  digit\n",
            "0  b00000.png      0\n",
            "1  b00001.png      2\n",
            "2  b00002.png      5\n",
            "3  b00003.png      2\n",
            "4  b00004.png      5\n",
            "=============================\n",
            "         filename  digit\n",
            "0      c00000.png      6\n",
            "1      c00001.png      1\n",
            "2      c00002.png      3\n",
            "3      c00003.png      2\n",
            "4      c00004.png      7\n",
            "...           ...    ...\n",
            "24293  c24293.png      3\n",
            "24294  c24294.png      2\n",
            "24295  c24295.png      7\n",
            "24296  c24296.png      2\n",
            "24297  c24297.png      7\n",
            "\n",
            "[24298 rows x 2 columns]\n",
            "     filename  digit\n",
            "0  c00000.png      6\n",
            "1  c00001.png      1\n",
            "2  c00002.png      3\n",
            "3  c00003.png      2\n",
            "4  c00004.png      7\n",
            "=============================\n",
            "         filename  digit\n",
            "0      d00000.png      1\n",
            "1      d00001.png      1\n",
            "2      d00002.png      5\n",
            "3      d00003.png      7\n",
            "4      d00004.png      0\n",
            "...           ...    ...\n",
            "10903  d10903.png      8\n",
            "10904  d10904.png      6\n",
            "10905  d10905.png      1\n",
            "10906  d10906.png      6\n",
            "10907  d10907.png      1\n",
            "\n",
            "[10908 rows x 2 columns]\n",
            "     filename  digit\n",
            "0  d00000.png      1\n",
            "1  d00001.png      1\n",
            "2  d00002.png      5\n",
            "3  d00003.png      7\n",
            "4  d00004.png      0\n",
            "=============================\n",
            "         filename  digit\n",
            "0      e00000.png      9\n",
            "1      e00001.png      9\n",
            "2      e00002.png      0\n",
            "3      e00003.png      4\n",
            "4      e00004.png      5\n",
            "...           ...    ...\n",
            "16773  e16773.png      2\n",
            "16774  e16774.png      6\n",
            "16775  e16775.png      5\n",
            "16776  e16776.png      4\n",
            "16777  e16777.png      4\n",
            "\n",
            "[16778 rows x 2 columns]\n",
            "     filename  digit\n",
            "0  e00000.png      9\n",
            "1  e00001.png      9\n",
            "2  e00002.png      0\n",
            "3  e00003.png      4\n",
            "4  e00004.png      5\n",
            "=============================\n"
          ],
          "name": "stdout"
        }
      ]
    },
    {
      "cell_type": "markdown",
      "metadata": {
        "id": "Mqt-tOK9h3V7"
      },
      "source": [
        "**Merging CSV files**"
      ]
    },
    {
      "cell_type": "code",
      "metadata": {
        "colab": {
          "base_uri": "https://localhost:8080/"
        },
        "id": "WRBs6kEb43yJ",
        "outputId": "26434e67-dc7e-44b3-feb7-95d3892ed69b"
      },
      "source": [
        "total_csv = [a_csv, b_csv,c_csv, d_csv,e_csv]\n",
        "merged_csv = pd.concat(total_csv)\n",
        "print(len(merged_csv))"
      ],
      "execution_count": null,
      "outputs": [
        {
          "output_type": "stream",
          "text": [
            "72045\n"
          ],
          "name": "stdout"
        }
      ]
    },
    {
      "cell_type": "markdown",
      "metadata": {
        "id": "DZ-2bXQGiCao"
      },
      "source": [
        "**Create a Path for merged Images on Drive**"
      ]
    },
    {
      "cell_type": "code",
      "metadata": {
        "id": "PkzlpcxT43yK"
      },
      "source": [
        "TRAIN_PATH = '/content/gdrive/MyDrive/sc_data_as1/namtadb/trainy'\n",
        "#os.mkdir(TRAIN_PATH)"
      ],
      "execution_count": null,
      "outputs": []
    },
    {
      "cell_type": "markdown",
      "metadata": {
        "id": "R6PtgCoLiKfx"
      },
      "source": [
        "**Merging image Function**"
      ]
    },
    {
      "cell_type": "code",
      "metadata": {
        "id": "-8phrF-p43yK"
      },
      "source": [
        "def processImages(folder_name):\n",
        "  src = PATH + folder_name + '/'\n",
        "  dir_folders = os.listdir(src)\n",
        "  for dir_name in dir_folders:\n",
        "    file_name = os.path.join(src, dir_name)\n",
        "    if os.path.isfile(file_name):\n",
        "      shutil.copy(file_name, TRAIN_PATH)"
      ],
      "execution_count": null,
      "outputs": []
    },
    {
      "cell_type": "markdown",
      "metadata": {
        "id": "SO_gSBk_iPhq"
      },
      "source": [
        "**Calling merger function for images**"
      ]
    },
    {
      "cell_type": "code",
      "metadata": {
        "id": "KM19B58c43yK",
        "outputId": "4433505e-08a8-434f-ad3e-1cdf2e58f1a7"
      },
      "source": [
        "processImages('training-a')\n",
        "print('A Complete')\n",
        "processImages('training-b')\n",
        "print('B Complete')\n",
        "processImages('training-c')\n",
        "print('C Complete')\n",
        "processImages('training-d')\n",
        "print('D Complete')\n",
        "processImages('training-e')\n",
        "print('E Complete')"
      ],
      "execution_count": null,
      "outputs": [
        {
          "output_type": "stream",
          "text": [
            "A Complete\n",
            "B Complete\n",
            "C Complete\n",
            "D Complete\n",
            "E Complete\n"
          ],
          "name": "stdout"
        }
      ]
    },
    {
      "cell_type": "markdown",
      "metadata": {
        "id": "YWkSADdEiUPz"
      },
      "source": [
        "**Create a Custom Dataset Function**"
      ]
    },
    {
      "cell_type": "code",
      "metadata": {
        "id": "_0oii8Ze43yL"
      },
      "source": [
        "class Dataset(Dataset):\n",
        "    def __init__(self, df, root, transform=None):\n",
        "        self.data = df\n",
        "        self.root = root\n",
        "        self.transform = transform\n",
        "    def __len__(self):\n",
        "        return len(self.data)\n",
        "    \n",
        "    def __getitem__(self, index):\n",
        "        item = self.data.iloc[index]\n",
        "        \n",
        "        path = self.root + \"/\" + item[0]\n",
        "        image = Image.open(path).convert('L')\n",
        "        label = item[1]\n",
        "        \n",
        "        if self.transform is not None:\n",
        "            image = self.transform(image)\n",
        "            \n",
        "        return image, label"
      ],
      "execution_count": null,
      "outputs": []
    },
    {
      "cell_type": "code",
      "metadata": {
        "colab": {
          "base_uri": "https://localhost:8080/"
        },
        "id": "OMyv8LHl43yL",
        "outputId": "e5f30f16-64d3-4be7-cdaa-e88a78df4070"
      },
      "source": [
        "mean = [0.5,]\n",
        "std = [0.5, ]\n",
        "c=1\n",
        "\n",
        "train_transform = transforms.Compose([\n",
        "    #transforms.Grayscale(c),\n",
        "    transforms.Resize(28),\n",
        "    transforms.ToTensor(),\n",
        "    transforms.Normalize(mean, std)\n",
        "])\n",
        "\n",
        "test_transform = transforms.Compose([\n",
        "        #transforms.Grayscale(c)\n",
        "        transforms.Resize(28),\n",
        "        transforms.ToTensor(),\n",
        "        transforms.Normalize(mean, std)\n",
        "])\n",
        "\n",
        "train_data  = Dataset(merged_csv, TRAIN_PATH, train_transform)\n",
        "test_data = Dataset(merged_csv, TRAIN_PATH, test_transform)\n",
        "\n",
        "print(\"Trainig Samples: \",len(train_data))"
      ],
      "execution_count": null,
      "outputs": [
        {
          "output_type": "stream",
          "text": [
            "Trainig Samples:  72045\n"
          ],
          "name": "stdout"
        }
      ]
    },
    {
      "cell_type": "markdown",
      "metadata": {
        "id": "TkcO6kypWdrz"
      },
      "source": [
        "#Hyper Parameter\r\n",
        "\r\n",
        "\r\n",
        "*  **Epochs:**\r\n",
        "One Epoch is when an entire dataset is passed forward and backward through the neural network only once.\r\n",
        "*  **Batch Size:**\r\n",
        "Total number of training examples present in a single batch.\r\n",
        "\r\n",
        "*  **Iterations:** Iterations is the number of batches needed to complete one epoch.\r\n",
        "\r\n",
        "\r\n",
        "* **Learning Rate:** The amount that the weights are updated during training is referred to as the step size or the “learning rate.”\r\n",
        "\r\n",
        "\r\n",
        "\r\n",
        "\r\n",
        "\r\n",
        "\r\n",
        "\r\n",
        "\r\n",
        "\r\n"
      ]
    },
    {
      "cell_type": "markdown",
      "metadata": {
        "id": "wr5iS_8xicAj"
      },
      "source": [
        "#**Hyper Parameter Tuning**"
      ]
    },
    {
      "cell_type": "markdown",
      "metadata": {
        "id": "X-zvGDhVqD8V"
      },
      "source": [
        "##Case 01\r\n",
        "First I randomly took  **batch size**,**iteration** and **learning rate** in accordance of **150,6000 and 0.004**.As the number of batch size is small I took a comparatively large learning rate and decide to give a larger iteration number as comparatively less batch size was used. The length of the dataset was 72045. So,\r\n",
        "\r\n",
        "> $epoch$ $number = (6000*150)/72045 = 12 epoches$\r\n",
        "\r\n",
        "\r\n",
        "> After Implementing logistic Regression found **36.3%** accuracy with this setting."
      ]
    },
    {
      "cell_type": "code",
      "metadata": {
        "id": "uV7w2aZD43yM"
      },
      "source": [
        "#setting hpt 1\n",
        "#36\n",
        "#Case1\n",
        "#HyperParameterTuning5\n",
        "batch_size = 150\n",
        "num_iters = 6000\n",
        "input_dim = 28*28 # num_features = 784\n",
        "output_dim = 10\n",
        "learning_rate = 0.004\n",
        "# Device\n",
        "device = torch.device(\"cuda:0\" if torch.cuda.is_available() else \"cpu\")"
      ],
      "execution_count": null,
      "outputs": []
    },
    {
      "cell_type": "markdown",
      "metadata": {
        "id": "dRzhnMGSqJKK"
      },
      "source": [
        "##Case 02\r\n",
        "After getting less accuracy in setting 1, I changed the  **batch size**,**iteration**, and **learning rate** in accordance with **175,5000 and 0.005**.I increased the batch size so took a comparatively larger learning rate than settings 1 and decide to give a smaller iteration number as a comparatively large batch size used. The length of the dataset was 72045. So,\r\n",
        "\r\n",
        "> $epoch$ $number = (5000*175)/72045 = 12 epoches$\r\n",
        "\r\n",
        "\r\n",
        ">  After Implementing logistic Regression found **37.2%** accuracy with this setting.\r\n"
      ]
    },
    {
      "cell_type": "code",
      "metadata": {
        "id": "enK7xmgyhdsV"
      },
      "source": [
        "#setting hpt 2\r\n",
        "#Case2\r\n",
        "#HyperParameterTuning6\r\n",
        "batch_size = 175\r\n",
        "num_iters = 5000\r\n",
        "input_dim = 28*28 # num_features = 784\r\n",
        "output_dim = 10\r\n",
        "learning_rate = 0.005\r\n",
        "# Device\r\n",
        "device = torch.device(\"cuda:0\" if torch.cuda.is_available() else \"cpu\")"
      ],
      "execution_count": null,
      "outputs": []
    },
    {
      "cell_type": "markdown",
      "metadata": {
        "id": "1JKPhE2uqM0Q"
      },
      "source": [
        "##Case 03\r\n",
        "After getting an accuracy of 37% in the previous setting I thought to use a very smaller learning rate with a large batch size in setting 3. So the  **batch size**,**iteration** and **learning rate** I chose for this settings are **256,6000 and 0.0004**.I increased the batch size so took a comparatively smaller learning rate. The length of the dataset was 72045. So,\r\n",
        "\r\n",
        "> $epoch$ $number = (6000*256)/72045 = 21 epoches$\r\n",
        "\r\n",
        "\r\n",
        ">  After Implementing logistic Regression found **42.7%** accuracy with this setting.\r\n"
      ]
    },
    {
      "cell_type": "code",
      "metadata": {
        "id": "o_YbGvZE43yL"
      },
      "source": [
        "#setting hpt 3\n",
        "#Case3\n",
        "#HyperParameterTuning1\n",
        "batch_size = 300\n",
        "num_iters = 4000\n",
        "input_dim = 28*28 # num_features = 784\n",
        "output_dim = 10\n",
        "learning_rate = 0.0003\n",
        "# Device\n",
        "device = torch.device(\"cuda:0\" if torch.cuda.is_available() else \"cpu\")"
      ],
      "execution_count": null,
      "outputs": []
    },
    {
      "cell_type": "markdown",
      "metadata": {
        "id": "bKNDbuDBqQ1z"
      },
      "source": [
        "##Case 04\r\n",
        "After getting a boost in setting 3 with an accuracy of 42%  I realized that a larger batch size with a small learning rate may help to get a more accurate result. So  in this setting I took **batch size**,**iteration** and **learning rate** in accordance with **400,5500 and 0.0009** .I increased the batch size so took a small learning rate and decide to gave an iteration number of 5500. The length of the dataset was 72045. So,\r\n",
        "\r\n",
        "> $epoch$ $number = (5500*400)/72045 = 30 epoches$\r\n",
        "\r\n",
        "\r\n",
        ">  After Implementing logistic Regression found **44.47%** accuracy with this setting.\r\n"
      ]
    },
    {
      "cell_type": "code",
      "metadata": {
        "id": "hDNlsNjGVdhp"
      },
      "source": [
        "#setting hpt 4\r\n",
        "#HyperParameterTuning44\r\n",
        "batch_size = 400\r\n",
        "num_iters = 5500\r\n",
        "input_dim = 28*28 # num_features = 784\r\n",
        "output_dim = 10\r\n",
        "learning_rate = 0.0009\r\n",
        "# Device\r\n",
        "device = torch.device(\"cuda:0\" if torch.cuda.is_available() else \"cpu\")"
      ],
      "execution_count": null,
      "outputs": []
    },
    {
      "cell_type": "markdown",
      "metadata": {
        "id": "K9UfkM4hqVbX"
      },
      "source": [
        "##Case 05\r\n",
        "After getting 44% accurancy I changed the batch size and increased it a little with same learning rate and iteration number.The value of **batch size**,**iteration** and **learning rate** in setting 5 are **420,5500,0.0009**.The length of the dataset was 72045.So,\r\n",
        "\r\n",
        "> $epoch$ $number = (5500*420)/72045 = 32 epoches$\r\n",
        "\r\n",
        "\r\n",
        ">  After Implementing logistic Regression found **45.76%** accuracy with this setting.\r\n"
      ]
    },
    {
      "cell_type": "code",
      "metadata": {
        "id": "-Wqo9CnEVRSR"
      },
      "source": [
        "#setting hpt 5\n",
        "#HyperParameterTuning5 45\n",
        "batch_size = 420\n",
        "num_iters = 5500\n",
        "input_dim = 28*28 # num_features = 784\n",
        "output_dim = 10\n",
        "learning_rate = 0.0009\n",
        "# Device\n",
        "device = torch.device(\"cuda:0\" if torch.cuda.is_available() else \"cpu\")"
      ],
      "execution_count": null,
      "outputs": []
    },
    {
      "cell_type": "markdown",
      "metadata": {
        "id": "jHXU5Auuh3OS"
      },
      "source": [
        "**Sending data to train and test loader**"
      ]
    },
    {
      "cell_type": "code",
      "metadata": {
        "id": "NjcLj3Nt43yM"
      },
      "source": [
        "# split data 10% for testing\n",
        "test_size = 0.1\n",
        "train_data[0]\n",
        "# obtain training indices that will be used for validation\n",
        "num_train = len(train_data)\n",
        "\n",
        "# mix data\n",
        "# index of num of train\n",
        "indices = list(range(num_train))\n",
        "#print(indices)\n",
        "# random the index\n",
        "np.random.shuffle(indices)\n",
        "split = int(np.floor(test_size * num_train))\n",
        "#print(split)\n",
        "# divied into two part\n",
        "train_idx, test_idx = indices[split:], indices[:split]\n",
        "#print(train_idx)\n",
        "#print(test_idx)\n",
        "\n",
        "# define the sampler\n",
        "train_sampler = SubsetRandomSampler(train_idx)\n",
        "test_sampler = SubsetRandomSampler(test_idx)\n",
        "#print(train_sampler)\n",
        "#print(test_sampler)\n",
        "# prepare loaders\n",
        "train_loader = torch.utils.data.DataLoader(\n",
        "    train_data, batch_size=batch_size,\n",
        "    sampler=train_sampler)\n",
        "\n",
        "test_loader = torch.utils.data.DataLoader(\n",
        "    test_data, batch_size=batch_size,\n",
        "    sampler=test_sampler)\n",
        "\n",
        "#print(\"Train dataloader:{}\".format(len(train_loader)))\n",
        "#print(\"Test dataloader:{}\".format(len(test_loader)))"
      ],
      "execution_count": null,
      "outputs": []
    },
    {
      "cell_type": "code",
      "metadata": {
        "id": "p1YeRDb443yM",
        "colab": {
          "base_uri": "https://localhost:8080/"
        },
        "outputId": "837682ed-d9f0-42a9-da99-9282c5478942"
      },
      "source": [
        "num_epochs = num_iters / (len(train_data) / batch_size)\n",
        "num_epochs = int(num_epochs)\n",
        "print(num_epochs)\n",
        "print(len(train_idx))\n",
        "print(len(test_idx))"
      ],
      "execution_count": null,
      "outputs": [
        {
          "output_type": "stream",
          "text": [
            "12\n",
            "64841\n",
            "7204\n"
          ],
          "name": "stdout"
        }
      ]
    },
    {
      "cell_type": "code",
      "metadata": {
        "id": "W2AGZDfR43yN",
        "colab": {
          "base_uri": "https://localhost:8080/",
          "height": 282
        },
        "outputId": "84b9420c-bc7e-4e86-d448-93700ed9ea03"
      },
      "source": [
        "## Displaying a Image\n",
        "\n",
        "import matplotlib.pyplot as plt \n",
        "import numpy as np\n",
        "\n",
        "show_img = train_data[0][0].numpy().reshape(28, 28)\n",
        "plt.imshow(show_img, cmap='gray')"
      ],
      "execution_count": null,
      "outputs": [
        {
          "output_type": "execute_result",
          "data": {
            "text/plain": [
              "<matplotlib.image.AxesImage at 0x7fe76dc94ba8>"
            ]
          },
          "metadata": {
            "tags": []
          },
          "execution_count": 27
        },
        {
          "output_type": "display_data",
          "data": {
            "image/png": "[encoded data removed]",
            "text/plain": [
              "<Figure size 432x288 with 1 Axes>"
            ]
          },
          "metadata": {
            "tags": [],
            "needs_background": "light"
          }
        }
      ]
    },
    {
      "cell_type": "code",
      "metadata": {
        "id": "Fq5QnFN743yN",
        "colab": {
          "base_uri": "https://localhost:8080/",
          "height": 315
        },
        "outputId": "b0438ff3-fb1a-498c-cd08-582e16a4d0d9"
      },
      "source": [
        "## Displaying another  Image\n",
        "# Label\n",
        "print(\"Label:\")\n",
        "print(train_data[2][1])\n",
        "\n",
        "show_img = train_data[2][0].numpy().reshape(28, 28)\n",
        "plt.imshow(show_img, cmap='gray')"
      ],
      "execution_count": null,
      "outputs": [
        {
          "output_type": "stream",
          "text": [
            "Label:\n",
            "1\n"
          ],
          "name": "stdout"
        },
        {
          "output_type": "execute_result",
          "data": {
            "text/plain": [
              "<matplotlib.image.AxesImage at 0x7fe76db35550>"
            ]
          },
          "metadata": {
            "tags": []
          },
          "execution_count": 28
        },
        {
          "output_type": "display_data",
          "data": {
            "image/png": "[encoded data removed]",
            "text/plain": [
              "<Figure size 432x288 with 1 Axes>"
            ]
          },
          "metadata": {
            "tags": [],
            "needs_background": "light"
          }
        }
      ]
    },
    {
      "cell_type": "code",
      "metadata": {
        "id": "CvF25_HE43yN",
        "colab": {
          "base_uri": "https://localhost:8080/"
        },
        "outputId": "7e0745dd-4be6-4375-a9c8-4ca000926099"
      },
      "source": [
        "# One Image Size\n",
        "print(train_data[0][0].size())\n",
        "print(train_data[0][0].numpy().shape)\n",
        "# First Image Label\n",
        "print(train_data[59][1])"
      ],
      "execution_count": null,
      "outputs": [
        {
          "output_type": "stream",
          "text": [
            "torch.Size([1, 28, 28])\n",
            "(1, 28, 28)\n",
            "2\n"
          ],
          "name": "stdout"
        }
      ]
    },
    {
      "cell_type": "markdown",
      "metadata": {
        "id": "bAHhk8OX5tTN"
      },
      "source": [
        "# Logistic Regression"
      ]
    },
    {
      "cell_type": "markdown",
      "metadata": {
        "id": "1Z10nZhf7BH1"
      },
      "source": [
        "Logistic Regression is an example of a classification algorithm which is used to find a relationship between features and the probability of a particular outcome. The term “Logistic” is taken from the Logit function that is used in this method of classification. Instead of fitting a straight line or hyperplane, the logistic regression model uses the logistic function to squeeze the output of a linear equation between 0 and 1. The logistic function is defined as:\r\n",
        "\r\n",
        "$logistic(η)=\\frac{1}{1+exp(−η)}$"
      ]
    },
    {
      "cell_type": "code",
      "metadata": {
        "id": "69Z61fqL43yN"
      },
      "source": [
        "class LogisticRegressionModel(nn.Module):\n",
        "    def __init__(self, input_size, num_classes):\n",
        "        super().__init__()\n",
        "        self.linear = nn.Linear(input_size, num_classes)\n",
        "\n",
        "    def forward(self, x):\n",
        "        logits  = self.linear(x)\n",
        "        probas = F.softmax(logits, dim=1)\n",
        "        return logits, probas\n",
        "        #return logits"
      ],
      "execution_count": null,
      "outputs": []
    },
    {
      "cell_type": "code",
      "metadata": {
        "colab": {
          "base_uri": "https://localhost:8080/"
        },
        "id": "O0LMi7CM71Mm",
        "outputId": "df104e00-8f5f-471e-9150-273df1a24baa"
      },
      "source": [
        "'''\n",
        "INSTANTIATE MODEL CLASS\n",
        "'''\n",
        "model = LogisticRegressionModel(input_size=input_dim,\n",
        "                                num_classes=output_dim)\n",
        "\n",
        "#To enable GPU\n",
        "model.to(device)"
      ],
      "execution_count": null,
      "outputs": [
        {
          "output_type": "execute_result",
          "data": {
            "text/plain": [
              "LogisticRegressionModel(\n",
              "  (linear): Linear(in_features=784, out_features=10, bias=True)\n",
              ")"
            ]
          },
          "metadata": {
            "tags": []
          },
          "execution_count": 5
        }
      ]
    },
    {
      "cell_type": "markdown",
      "metadata": {
        "id": "HLVu7U8giICX"
      },
      "source": [
        "**For optimizer I used Adam**\r\n",
        "\r\n",
        "The Adam optimization algorithm is an extension to stochastic gradient descent that has recently seen broader adoption for deep learning applications in computer vision and natural language processing."
      ]
    },
    {
      "cell_type": "code",
      "metadata": {
        "colab": {
          "base_uri": "https://localhost:8080/"
        },
        "id": "VyOl54aw43yO",
        "outputId": "7b052698-ca21-47f1-bf63-95ba57d0ab8f"
      },
      "source": [
        "# INSTANTIATE OPTIMIZER CLASS\n",
        "#optimizer = torch.optim.SGD(model.parameters(), lr=learning_rate)\n",
        "optimizer = torch.optim.Adam(model.parameters(), lr=learning_rate)\n",
        "train_data[18][0].numpy().shape"
      ],
      "execution_count": null,
      "outputs": [
        {
          "output_type": "execute_result",
          "data": {
            "text/plain": [
              "(1, 28, 28)"
            ]
          },
          "metadata": {
            "tags": []
          },
          "execution_count": 47
        }
      ]
    },
    {
      "cell_type": "markdown",
      "metadata": {
        "id": "vujUy5fYiaYJ"
      },
      "source": [
        "**Training Model**"
      ]
    },
    {
      "cell_type": "code",
      "metadata": {
        "id": "QouWTu3l43yQ",
        "colab": {
          "base_uri": "https://localhost:8080/"
        },
        "outputId": "9dfe0422-13d0-48f8-e8f3-b19de658b79c"
      },
      "source": [
        "#t1\n",
        "#setting05\n",
        "'''\n",
        "TRAIN THE MODEL\n",
        "'''\n",
        "iteration_loss = []\n",
        "iter = 0\n",
        "for epoch in range(num_epochs):\n",
        "    for i, (images, labels) in enumerate(train_loader):\n",
        "\n",
        "        images = images.view(-1, 28*28).to(device)\n",
        "        labels = labels.to(device)\n",
        "\n",
        "        # Clear gradients w.r.t. parameters\n",
        "        optimizer.zero_grad()\n",
        "\n",
        "        # Forward pass to get output/logits\n",
        "        logits, probas = model(images) \n",
        "\n",
        "        # Calculate Loss: PyTorch implementation of CrossEntropyLoss works with logits, not probabilities\n",
        "        loss = F.cross_entropy(logits, labels)\n",
        "\n",
        "        # Getting gradients w.r.t. parameters\n",
        "        loss.backward()\n",
        "\n",
        "        # Updating parameters\n",
        "        optimizer.step()\n",
        "\n",
        "        iter += 1\n",
        "\n",
        "        if iter % 500 == 0:\n",
        "            # Calculate Accuracy         \n",
        "            correct = 0\n",
        "            total = 0\n",
        "            # Iterate through test dataset\n",
        "            for images, labels in test_loader:\n",
        "               \n",
        "                images = images.view(-1, 28*28).to(device)\n",
        "\n",
        "                # Forward pass only to get logits/output\n",
        "                logits, probas = model(images)\n",
        "\n",
        "                # Get predictions from the maximum value\n",
        "                _, predicted = torch.max(probas, 1)\n",
        "\n",
        "                # Total number of labels\n",
        "                total += labels.size(0)\n",
        "\n",
        "\n",
        "                # Total correct predictions\n",
        "                if torch.cuda.is_available():\n",
        "                    correct += (predicted.cpu() == labels.cpu()).sum() \n",
        "                else:\n",
        "                    correct += (predicted == labels).sum()\n",
        "\n",
        "            accuracy = 100 * correct.item() / total\n",
        "\n",
        "            # Print Loss\n",
        "            iteration_loss.append(loss.item())\n",
        "            print('Iteration: {}. Loss: {}. Accuracy: {}'.format(iter, loss.item(), accuracy))"
      ],
      "execution_count": null,
      "outputs": [
        {
          "output_type": "stream",
          "text": [
            "Iteration: 500. Loss: 2.095184087753296. Accuracy: 31.81565796779567\n",
            "Iteration: 1000. Loss: 2.005549430847168. Accuracy: 35.161021654636315\n",
            "Iteration: 1500. Loss: 1.935590386390686. Accuracy: 38.367573570238754\n",
            "Iteration: 2000. Loss: 1.8923746347427368. Accuracy: 43.406440866185456\n",
            "Iteration: 2500. Loss: 1.9256457090377808. Accuracy: 37.68739589117157\n",
            "Iteration: 3000. Loss: 1.7767210006713867. Accuracy: 35.258189894503055\n",
            "Iteration: 3500. Loss: 1.7616372108459473. Accuracy: 36.715713492504165\n",
            "Iteration: 4000. Loss: 1.877875804901123. Accuracy: 35.95224875069406\n",
            "Iteration: 4500. Loss: 2.006199836730957. Accuracy: 35.41088284286508\n",
            "Iteration: 5000. Loss: 1.7080999612808228. Accuracy: 36.313159355913385\n"
          ],
          "name": "stdout"
        }
      ]
    },
    {
      "cell_type": "code",
      "metadata": {
        "colab": {
          "base_uri": "https://localhost:8080/"
        },
        "id": "ekw5uE0_h66S",
        "outputId": "dabba95c-87e8-4db0-f06c-5680c445d381"
      },
      "source": [
        "#t2\r\n",
        "#setting06\r\n",
        "'''\r\n",
        "TRAIN THE MODEL\r\n",
        "'''\r\n",
        "iteration_loss = []\r\n",
        "iter = 0\r\n",
        "for epoch in range(num_epochs):\r\n",
        "    for i, (images, labels) in enumerate(train_loader):\r\n",
        "\r\n",
        "        images = images.view(-1, 28*28).to(device)\r\n",
        "        labels = labels.to(device)\r\n",
        "\r\n",
        "        # Clear gradients w.r.t. parameters\r\n",
        "        optimizer.zero_grad()\r\n",
        "\r\n",
        "        # Forward pass to get output/logits\r\n",
        "        logits, probas = model(images) \r\n",
        "\r\n",
        "        # Calculate Loss: PyTorch implementation of CrossEntropyLoss works with logits, not probabilities\r\n",
        "        loss = F.cross_entropy(logits, labels)\r\n",
        "\r\n",
        "        # Getting gradients w.r.t. parameters\r\n",
        "        loss.backward()\r\n",
        "\r\n",
        "        # Updating parameters\r\n",
        "        optimizer.step()\r\n",
        "\r\n",
        "        iter += 1\r\n",
        "\r\n",
        "        if iter % 500 == 0:\r\n",
        "            # Calculate Accuracy         \r\n",
        "            correct = 0\r\n",
        "            total = 0\r\n",
        "            # Iterate through test dataset\r\n",
        "            for images, labels in test_loader:\r\n",
        "               \r\n",
        "                images = images.view(-1, 28*28).to(device)\r\n",
        "\r\n",
        "                # Forward pass only to get logits/output\r\n",
        "                logits, probas = model(images)\r\n",
        "\r\n",
        "                # Get predictions from the maximum value\r\n",
        "                _, predicted = torch.max(probas, 1)\r\n",
        "\r\n",
        "                # Total number of labels\r\n",
        "                total += labels.size(0)\r\n",
        "\r\n",
        "\r\n",
        "                # Total correct predictions\r\n",
        "                if torch.cuda.is_available():\r\n",
        "                    correct += (predicted.cpu() == labels.cpu()).sum() \r\n",
        "                else:\r\n",
        "                    correct += (predicted == labels).sum()\r\n",
        "\r\n",
        "            accuracy = 100 * correct.item() / total\r\n",
        "\r\n",
        "            # Print Loss\r\n",
        "            iteration_loss.append(loss.item())\r\n",
        "            print('Iteration: {}. Loss: {}. Accuracy: {}'.format(iter, loss.item(), accuracy))"
      ],
      "execution_count": null,
      "outputs": [
        {
          "output_type": "stream",
          "text": [
            "Iteration: 500. Loss: 1.9303076267242432. Accuracy: 31.70460855080511\n",
            "Iteration: 1000. Loss: 1.8982239961624146. Accuracy: 35.79955580233204\n",
            "Iteration: 1500. Loss: 1.9955881834030151. Accuracy: 34.16157690172127\n",
            "Iteration: 2000. Loss: 1.7692346572875977. Accuracy: 37.95113825652415\n",
            "Iteration: 2500. Loss: 1.6683499813079834. Accuracy: 32.10716268739589\n",
            "Iteration: 3000. Loss: 1.851629614830017. Accuracy: 31.177123820099943\n",
            "Iteration: 3500. Loss: 1.7347426414489746. Accuracy: 35.9106052193226\n",
            "Iteration: 4000. Loss: 1.8528388738632202. Accuracy: 37.32648528595225\n"
          ],
          "name": "stdout"
        }
      ]
    },
    {
      "cell_type": "code",
      "metadata": {
        "id": "mrzjqWUH9z9U",
        "outputId": "3b3d533c-6eb9-45e7-9787-37937586d371"
      },
      "source": [
        "#t3\n",
        "#setting07\n",
        "'''\n",
        "TRAIN THE MODEL\n",
        "'''\n",
        "iteration_loss = []\n",
        "iter = 0\n",
        "for epoch in range(num_epochs):\n",
        "    for i, (images, labels) in enumerate(train_loader):\n",
        "\n",
        "        images = images.view(-1, 28*28).to(device)\n",
        "        labels = labels.to(device)\n",
        "\n",
        "        # Clear gradients w.r.t. parameters\n",
        "        optimizer.zero_grad()\n",
        "\n",
        "        # Forward pass to get output/logits\n",
        "        logits, probas = model(images) \n",
        "\n",
        "        # Calculate Loss: PyTorch implementation of CrossEntropyLoss works with logits, not probabilities\n",
        "        loss = F.cross_entropy(logits, labels)\n",
        "\n",
        "        # Getting gradients w.r.t. parameters\n",
        "        loss.backward()\n",
        "\n",
        "        # Updating parameters\n",
        "        optimizer.step()\n",
        "\n",
        "        iter += 1\n",
        "\n",
        "        if iter % 500 == 0:\n",
        "            # Calculate Accuracy         \n",
        "            correct = 0\n",
        "            total = 0\n",
        "            # Iterate through test dataset\n",
        "            for images, labels in test_loader:\n",
        "               \n",
        "                images = images.view(-1, 28*28).to(device)\n",
        "\n",
        "                # Forward pass only to get logits/output\n",
        "                logits, probas = model(images)\n",
        "\n",
        "                # Get predictions from the maximum value\n",
        "                _, predicted = torch.max(probas, 1)\n",
        "\n",
        "                # Total number of labels\n",
        "                total += labels.size(0)\n",
        "\n",
        "\n",
        "                # Total correct predictions\n",
        "                if torch.cuda.is_available():\n",
        "                    correct += (predicted.cpu() == labels.cpu()).sum() \n",
        "                else:\n",
        "                    correct += (predicted == labels).sum()\n",
        "\n",
        "            accuracy = 100 * correct.item() / total\n",
        "\n",
        "            # Print Loss\n",
        "            iteration_loss.append(loss.item())\n",
        "            print('Iteration: {}. Loss: {}. Accuracy: {}'.format(iter, loss.item(), accuracy))"
      ],
      "execution_count": null,
      "outputs": [
        {
          "output_type": "stream",
          "text": [
            "Iteration: 500. Loss: 1.9610687494277954. Accuracy: 29.06718489727929\n",
            "Iteration: 1000. Loss: 1.855689525604248. Accuracy: 33.20377568017768\n",
            "Iteration: 1500. Loss: 1.890579342842102. Accuracy: 34.46696279844531\n",
            "Iteration: 2000. Loss: 1.824910283088684. Accuracy: 39.10327595780122\n",
            "Iteration: 2500. Loss: 1.8607021570205688. Accuracy: 35.85508051082732\n",
            "Iteration: 3000. Loss: 1.8201032876968384. Accuracy: 39.10327595780122\n",
            "Iteration: 3500. Loss: 1.8243399858474731. Accuracy: 42.71238200999445\n"
          ],
          "name": "stdout"
        }
      ]
    },
    {
      "cell_type": "code",
      "metadata": {
        "id": "njteIDrlVRSV",
        "outputId": "0c4fc5e0-3ae2-42be-92f6-2d0974780b21"
      },
      "source": [
        "#t4\n",
        "#setting02\n",
        "'''\n",
        "TRAIN THE MODEL\n",
        "'''\n",
        "iteration_loss = []\n",
        "iter = 0\n",
        "for epoch in range(num_epochs):\n",
        "    for i, (images, labels) in enumerate(train_loader):\n",
        "\n",
        "        images = images.view(-1, 28*28).to(device)\n",
        "        labels = labels.to(device)\n",
        "\n",
        "        # Clear gradients w.r.t. parameters\n",
        "        optimizer.zero_grad()\n",
        "\n",
        "        # Forward pass to get output/logits\n",
        "        logits, probas = model(images) \n",
        "\n",
        "        # Calculate Loss: PyTorch implementation of CrossEntropyLoss works with logits, not probabilities\n",
        "        loss = F.cross_entropy(logits, labels)\n",
        "\n",
        "        # Getting gradients w.r.t. parameters\n",
        "        loss.backward()\n",
        "\n",
        "        # Updating parameters\n",
        "        optimizer.step()\n",
        "\n",
        "        iter += 1\n",
        "\n",
        "        if iter % 500 == 0:\n",
        "            # Calculate Accuracy         \n",
        "            correct = 0\n",
        "            total = 0\n",
        "            # Iterate through test dataset\n",
        "            for images, labels in test_loader:\n",
        "               \n",
        "                images = images.view(-1, 28*28).to(device)\n",
        "\n",
        "                # Forward pass only to get logits/output\n",
        "                logits, probas = model(images)\n",
        "\n",
        "                # Get predictions from the maximum value\n",
        "                _, predicted = torch.max(probas, 1)\n",
        "\n",
        "                # Total number of labels\n",
        "                total += labels.size(0)\n",
        "\n",
        "\n",
        "                # Total correct predictions\n",
        "                if torch.cuda.is_available():\n",
        "                    correct += (predicted.cpu() == labels.cpu()).sum() \n",
        "                else:\n",
        "                    correct += (predicted == labels).sum()\n",
        "\n",
        "            accuracy = 100 * correct.item() / total\n",
        "\n",
        "            # Print Loss\n",
        "            iteration_loss.append(loss.item())\n",
        "            print('Iteration: {}. Loss: {}. Accuracy: {}'.format(iter, loss.item(), accuracy))"
      ],
      "execution_count": null,
      "outputs": [
        {
          "output_type": "stream",
          "text": [
            "Iteration: 500. Loss: 1.8388433456420898. Accuracy: 42.67073847862299\n",
            "Iteration: 1000. Loss: 1.806343913078308. Accuracy: 43.11493614658523\n",
            "Iteration: 1500. Loss: 1.8534287214279175. Accuracy: 43.781232648528594\n",
            "Iteration: 2000. Loss: 1.8066343069076538. Accuracy: 42.337590227651305\n",
            "Iteration: 2500. Loss: 1.7741936445236206. Accuracy: 42.032204330927264\n",
            "Iteration: 3000. Loss: 1.7631690502166748. Accuracy: 43.392559689061635\n",
            "Iteration: 3500. Loss: 1.8337496519088745. Accuracy: 42.90671848972793\n",
            "Iteration: 4000. Loss: 1.7701524496078491. Accuracy: 43.17046085508051\n",
            "Iteration: 4500. Loss: 1.681371808052063. Accuracy: 44.4752915047196\n"
          ],
          "name": "stdout"
        }
      ]
    },
    {
      "cell_type": "code",
      "metadata": {
        "id": "1JCUknZpVRSW",
        "outputId": "ba877f1f-d1e1-4ec6-c37b-b46171f1fd23"
      },
      "source": [
        "#45\n",
        "'''\n",
        "TRAIN THE MODEL\n",
        "'''\n",
        "iteration_loss = []\n",
        "iter = 0\n",
        "for epoch in range(num_epochs):\n",
        "    for i, (images, labels) in enumerate(train_loader):\n",
        "\n",
        "        images = images.view(-1, 28*28).to(device)\n",
        "        labels = labels.to(device)\n",
        "\n",
        "        # Clear gradients w.r.t. parameters\n",
        "        optimizer.zero_grad()\n",
        "\n",
        "        # Forward pass to get output/logits\n",
        "        logits, probas = model(images) \n",
        "\n",
        "        # Calculate Loss: PyTorch implementation of CrossEntropyLoss works with logits, not probabilities\n",
        "        loss = F.cross_entropy(logits, labels)\n",
        "\n",
        "        # Getting gradients w.r.t. parameters\n",
        "        loss.backward()\n",
        "\n",
        "        # Updating parameters\n",
        "        optimizer.step()\n",
        "\n",
        "        iter += 1\n",
        "\n",
        "        if iter % 500 == 0:\n",
        "            # Calculate Accuracy         \n",
        "            correct = 0\n",
        "            total = 0\n",
        "            # Iterate through test dataset\n",
        "            for images, labels in test_loader:\n",
        "               \n",
        "                images = images.view(-1, 28*28).to(device)\n",
        "\n",
        "                # Forward pass only to get logits/output\n",
        "                logits, probas = model(images)\n",
        "\n",
        "                # Get predictions from the maximum value\n",
        "                _, predicted = torch.max(probas, 1)\n",
        "\n",
        "                # Total number of labels\n",
        "                total += labels.size(0)\n",
        "\n",
        "\n",
        "                # Total correct predictions\n",
        "                if torch.cuda.is_available():\n",
        "                    correct += (predicted.cpu() == labels.cpu()).sum() \n",
        "                else:\n",
        "                    correct += (predicted == labels).sum()\n",
        "\n",
        "            accuracy = 100 * correct.item() / total\n",
        "\n",
        "            # Print Loss\n",
        "            iteration_loss.append(loss.item())\n",
        "            print('Iteration: {}. Loss: {}. Accuracy: {}'.format(iter, loss.item(), accuracy))"
      ],
      "execution_count": null,
      "outputs": [
        {
          "output_type": "stream",
          "text": [
            "Iteration: 500. Loss: 1.7784876823425293. Accuracy: 43.281510272071074\n",
            "Iteration: 1000. Loss: 1.7371859550476074. Accuracy: 44.48917268184342\n",
            "Iteration: 1500. Loss: 1.6668457984924316. Accuracy: 44.29483620210994\n",
            "Iteration: 2000. Loss: 1.8076945543289185. Accuracy: 42.337590227651305\n",
            "Iteration: 2500. Loss: 1.8053865432739258. Accuracy: 45.08606329816769\n",
            "Iteration: 3000. Loss: 1.9111237525939941. Accuracy: 44.48917268184342\n",
            "Iteration: 3500. Loss: 1.7157378196716309. Accuracy: 45.75235980011105\n",
            "Iteration: 4000. Loss: 1.7246185541152954. Accuracy: 42.4069961132704\n",
            "Iteration: 4500. Loss: 1.7342727184295654. Accuracy: 45.76624097723487\n"
          ],
          "name": "stdout"
        }
      ]
    },
    {
      "cell_type": "markdown",
      "metadata": {
        "id": "B0dqei4Jhldw"
      },
      "source": [
        "## Comparison Table"
      ]
    },
    {
      "cell_type": "markdown",
      "metadata": {
        "id": "S9GNon8ljot2"
      },
      "source": [
        "**NumtaDB Dataset Comparision Table in Different Settings:-**\r\n",
        "\r\n",
        "| Settings        | Batch Size     | Iteration Number|Learing rate   |Epochs| Accuracy(%)|Dataset Length|\r\n",
        "| :------------- | :----------: | -----------: | ------------:|--------:|------------:|----------:|\r\n",
        "|  1 | 150   | 6000 |0.004   | 12 |36.31||\r\n",
        "|  2 | 175   | 5000 |0.005  | 12 |37.32|||\r\n",
        "|  3 | 256  | 6000  |0.0004  | 21 |**42.71**|**72045**|\r\n",
        "|  4 | 400  | 5500  |0.0009  | 30 |**44.47**||\r\n",
        "|  5 | 420   | 5500 |0.0009   | 32|**45.76**||"
      ]
    },
    {
      "cell_type": "markdown",
      "metadata": {
        "id": "Aaut8VBDlnn3"
      },
      "source": [
        "**Loss Graphs**"
      ]
    },
    {
      "cell_type": "code",
      "metadata": {
        "id": "eNrGGNUS5NsL",
        "colab": {
          "base_uri": "https://localhost:8080/",
          "height": 316
        },
        "outputId": "c8841cb7-70a5-4fb6-98a9-6589e6d81e95"
      },
      "source": [
        "#loss1\r\n",
        "#5\r\n",
        "import matplotlib\r\n",
        "import matplotlib.pyplot as plt\r\n",
        "print (iteration_loss)\r\n",
        "plt.plot(iteration_loss)\r\n",
        "plt.ylabel('Cross Entropy Loss')\r\n",
        "plt.xlabel('Iteration (in every 500)')\r\n",
        "plt.show()"
      ],
      "execution_count": null,
      "outputs": [
        {
          "output_type": "stream",
          "text": [
            "[2.095184087753296, 2.005549430847168, 1.935590386390686, 1.8923746347427368, 1.9256457090377808, 1.7767210006713867, 1.7616372108459473, 1.877875804901123, 2.006199836730957, 1.7080999612808228]\n"
          ],
          "name": "stdout"
        },
        {
          "output_type": "display_data",
          "data": {
            "image/png": "[encoded data removed]",
            "text/plain": [
              "<Figure size 432x288 with 1 Axes>"
            ]
          },
          "metadata": {
            "tags": [],
            "needs_background": "light"
          }
        }
      ]
    },
    {
      "cell_type": "code",
      "metadata": {
        "colab": {
          "base_uri": "https://localhost:8080/",
          "height": 316
        },
        "id": "Xt1I5870h3Wk",
        "outputId": "b8bf1bbe-1108-4957-c39d-82529c30636b"
      },
      "source": [
        "#loss2\r\n",
        "#6\r\n",
        "import matplotlib\r\n",
        "import matplotlib.pyplot as plt\r\n",
        "print (iteration_loss)\r\n",
        "plt.plot(iteration_loss)\r\n",
        "plt.ylabel('Cross Entropy Loss')\r\n",
        "plt.xlabel('Iteration (in every 500)')\r\n",
        "plt.show()"
      ],
      "execution_count": null,
      "outputs": [
        {
          "output_type": "stream",
          "text": [
            "[1.9303076267242432, 1.8982239961624146, 1.9955881834030151, 1.7692346572875977, 1.6683499813079834, 1.851629614830017, 1.7347426414489746, 1.8528388738632202]\n"
          ],
          "name": "stdout"
        },
        {
          "output_type": "display_data",
          "data": {
            "image/png": "[encoded data removed]",
            "text/plain": [
              "<Figure size 432x288 with 1 Axes>"
            ]
          },
          "metadata": {
            "tags": [],
            "needs_background": "light"
          }
        }
      ]
    },
    {
      "cell_type": "code",
      "metadata": {
        "colab": {
          "base_uri": "https://localhost:8080/",
          "height": 296
        },
        "id": "9twvG5EFLIdT",
        "outputId": "3c176b69-268c-430e-d055-62c667fa4554"
      },
      "source": [
        "#loss3\r\n",
        "#7\r\n",
        "import matplotlib\r\n",
        "import matplotlib.pyplot as plt\r\n",
        "print (iteration_loss)\r\n",
        "plt.plot(iteration_loss)\r\n",
        "plt.ylabel('Cross Entropy Loss')\r\n",
        "plt.xlabel('Iteration (in every 500)')\r\n",
        "plt.show()\r\n"
      ],
      "execution_count": null,
      "outputs": [
        {
          "output_type": "stream",
          "text": [
            "[1.9610687494277954, 1.855689525604248, 1.890579342842102, 1.824910283088684, 1.8607021570205688, 1.8201032876968384, 1.8243399858474731]\n"
          ],
          "name": "stdout"
        },
        {
          "output_type": "display_data",
          "data": {
            "image/png": "[encoded data removed]",
            "text/plain": [
              "<Figure size 432x288 with 1 Axes>"
            ]
          },
          "metadata": {
            "tags": [],
            "needs_background": "light"
          }
        }
      ]
    },
    {
      "cell_type": "code",
      "metadata": {
        "colab": {
          "base_uri": "https://localhost:8080/",
          "height": 296
        },
        "id": "__U36eaU9fD4",
        "outputId": "50931102-652f-4f67-c54c-372a7d1661ce"
      },
      "source": [
        "#loss4\r\n",
        "import matplotlib\r\n",
        "import matplotlib.pyplot as plt\r\n",
        "print (iteration_loss)\r\n",
        "plt.plot(iteration_loss)\r\n",
        "plt.ylabel('Cross Entropy Loss')\r\n",
        "plt.xlabel('Iteration (in every 500)')\r\n",
        "plt.show()"
      ],
      "execution_count": null,
      "outputs": [
        {
          "output_type": "stream",
          "text": [
            "[1.8388433456420898, 1.806343913078308, 1.8534287214279175, 1.8066343069076538, 1.7741936445236206, 1.7631690502166748, 1.8337496519088745, 1.7701524496078491, 1.681371808052063]\n"
          ],
          "name": "stdout"
        },
        {
          "output_type": "display_data",
          "data": {
            "image/png": "[encoded data removed]",
            "text/plain": [
              "<Figure size 432x288 with 1 Axes>"
            ]
          },
          "metadata": {
            "tags": [],
            "needs_background": "light"
          }
        }
      ]
    },
    {
      "cell_type": "code",
      "metadata": {
        "colab": {
          "base_uri": "https://localhost:8080/",
          "height": 296
        },
        "id": "yO-QVdl3KxjI",
        "outputId": "fd98370f-2cea-49c8-a2b0-3e5e18b7d6cc"
      },
      "source": [
        "#loss5\r\n",
        "import matplotlib\r\n",
        "import matplotlib.pyplot as plt\r\n",
        "print (iteration_loss)\r\n",
        "plt.plot(iteration_loss)\r\n",
        "plt.ylabel('Cross Entropy Loss')\r\n",
        "plt.xlabel('Iteration (in every 500)')\r\n",
        "plt.show()"
      ],
      "execution_count": null,
      "outputs": [
        {
          "output_type": "stream",
          "text": [
            "[1.7784876823425293, 1.7371859550476074, 1.6668457984924316, 1.8076945543289185, 1.8053865432739258, 1.9111237525939941, 1.7157378196716309, 1.7246185541152954, 1.7342727184295654]\n"
          ],
          "name": "stdout"
        },
        {
          "output_type": "display_data",
          "data": {
            "image/png": "[encoded data removed]",
            "text/plain": [
              "<Figure size 432x288 with 1 Axes>"
            ]
          },
          "metadata": {
            "tags": [],
            "needs_background": "light"
          }
        }
      ]
    },
    {
      "cell_type": "markdown",
      "metadata": {
        "id": "w1f2p0VSn2Al"
      },
      "source": [
        "**Accuracy Graphs**"
      ]
    },
    {
      "cell_type": "code",
      "metadata": {
        "colab": {
          "base_uri": "https://localhost:8080/",
          "height": 316
        },
        "id": "82BZUHI7MCkX",
        "outputId": "15f5f3d7-7eef-425c-a773-cb67ab97194c"
      },
      "source": [
        "#acc1\r\n",
        "import matplotlib\r\n",
        "import matplotlib.pyplot as plt\r\n",
        "iteration_loss= [31.81565796779567, 35.161021654636315,38.367573570238754,43.406440866185456, 37.68739589117157,35.258189894503055, 36.715713492504165, 35.95224875069406,35.41088284286508,36.313159355913385]\r\n",
        "print (iteration_loss)\r\n",
        "plt.plot(iteration_loss,color=\"red\")\r\n",
        "plt.ylabel('Accuracy in percentage')\r\n",
        "plt.xlabel('Iteration (in every 500)')\r\n",
        "plt.show()"
      ],
      "execution_count": null,
      "outputs": [
        {
          "output_type": "stream",
          "text": [
            "[31.81565796779567, 35.161021654636315, 38.367573570238754, 43.406440866185456, 37.68739589117157, 35.258189894503055, 36.715713492504165, 35.95224875069406, 35.41088284286508, 36.313159355913385]\n"
          ],
          "name": "stdout"
        },
        {
          "output_type": "display_data",
          "data": {
            "image/png": "[encoded data removed]",
            "text/plain": [
              "<Figure size 432x288 with 1 Axes>"
            ]
          },
          "metadata": {
            "tags": [],
            "needs_background": "light"
          }
        }
      ]
    },
    {
      "cell_type": "code",
      "metadata": {
        "colab": {
          "base_uri": "https://localhost:8080/",
          "height": 296
        },
        "id": "0LPrZrFwoGGd",
        "outputId": "2be4b2e4-350c-4e43-a238-9919e4057f7f"
      },
      "source": [
        "#acc2\r\n",
        "import matplotlib\r\n",
        "import matplotlib.pyplot as plt\r\n",
        "iteration_loss= [31.70460855080511,35.79955580233204,35.79955580233204,37.95113825652415,32.10716268739589,31.177123820099943,35.9106052193226,37.32648528595225]\r\n",
        "print (iteration_loss)\r\n",
        "plt.plot(iteration_loss,color=\"red\")\r\n",
        "\r\n",
        "plt.ylabel('Accuracy in percentage')\r\n",
        "plt.xlabel('Iteration (in every 500)')\r\n",
        "plt.show()"
      ],
      "execution_count": null,
      "outputs": [
        {
          "output_type": "stream",
          "text": [
            "[31.70460855080511, 35.79955580233204, 35.79955580233204, 37.95113825652415, 32.10716268739589, 31.177123820099943, 35.9106052193226, 37.32648528595225]\n"
          ],
          "name": "stdout"
        },
        {
          "output_type": "display_data",
          "data": {
            "image/png": "[encoded data removed]",
            "text/plain": [
              "<Figure size 432x288 with 1 Axes>"
            ]
          },
          "metadata": {
            "tags": [],
            "needs_background": "light"
          }
        }
      ]
    },
    {
      "cell_type": "code",
      "metadata": {
        "colab": {
          "base_uri": "https://localhost:8080/",
          "height": 296
        },
        "id": "RnPmcN87Ow95",
        "outputId": "a57dd1e1-a6d0-47fc-a5e7-12c5c6052564"
      },
      "source": [
        "#acc3\r\n",
        "import matplotlib\r\n",
        "import matplotlib.pyplot as plt\r\n",
        "iteration_loss= [ 29.06718489727929, 33.20377568017768, 34.46696279844531,39.10327595780122,35.85508051082732,39.10327595780122,42.71238200999445]\r\n",
        "print (iteration_loss)\r\n",
        "plt.plot(iteration_loss,color=\"red\")\r\n",
        "plt.ylabel('Accuracy in percentage')\r\n",
        "plt.xlabel('Iteration (in every 500)')\r\n",
        "plt.show()"
      ],
      "execution_count": null,
      "outputs": [
        {
          "output_type": "stream",
          "text": [
            "[29.06718489727929, 33.20377568017768, 34.46696279844531, 39.10327595780122, 35.85508051082732, 39.10327595780122, 42.71238200999445]\n"
          ],
          "name": "stdout"
        },
        {
          "output_type": "display_data",
          "data": {
            "image/png": "[encoded data removed]",
            "text/plain": [
              "<Figure size 432x288 with 1 Axes>"
            ]
          },
          "metadata": {
            "tags": [],
            "needs_background": "light"
          }
        }
      ]
    },
    {
      "cell_type": "code",
      "metadata": {
        "colab": {
          "base_uri": "https://localhost:8080/",
          "height": 296
        },
        "id": "7kX6gArT9fIF",
        "outputId": "c4c3f872-691f-4248-8843-16a1afdc7085"
      },
      "source": [
        "#acc4\r\n",
        "import matplotlib\r\n",
        "import matplotlib.pyplot as plt\r\n",
        "iteration_loss= [42.67073847862299,43.11493614658523,43.781232648528594,42.337590227651305,42.032204330927264,43.392559689061635,42.90671848972793,43.17046085508051,44.4752915047196]\r\n",
        "print (iteration_loss)\r\n",
        "plt.plot(iteration_loss,color=\"red\")\r\n",
        "plt.ylabel('Accuracy in percentage')\r\n",
        "plt.xlabel('Iteration (in every 500)')\r\n",
        "plt.show()"
      ],
      "execution_count": null,
      "outputs": [
        {
          "output_type": "stream",
          "text": [
            "[42.67073847862299, 43.11493614658523, 43.781232648528594, 42.337590227651305, 42.032204330927264, 43.392559689061635, 42.90671848972793, 43.17046085508051, 44.4752915047196]\n"
          ],
          "name": "stdout"
        },
        {
          "output_type": "display_data",
          "data": {
            "image/png": "[encoded data removed]",
            "text/plain": [
              "<Figure size 432x288 with 1 Axes>"
            ]
          },
          "metadata": {
            "tags": [],
            "needs_background": "light"
          }
        }
      ]
    },
    {
      "cell_type": "code",
      "metadata": {
        "colab": {
          "base_uri": "https://localhost:8080/",
          "height": 296
        },
        "id": "6f3y6R7BA5bh",
        "outputId": "fbeb639d-4222-4811-fc47-387039b7dfc0"
      },
      "source": [
        "#acc5\r\n",
        "import matplotlib\r\n",
        "import matplotlib.pyplot as plt\r\n",
        "iteration_loss= [43.281510272071074,44.48917268184342,44.29483620210994,42.337590227651305,45.08606329816769,44.48917268184342,45.75235980011105,42.4069961132704,45.76624097723487]\r\n",
        "print (iteration_loss)\r\n",
        "plt.plot(iteration_loss,color=\"red\")\r\n",
        "plt.ylabel('Accuracy in percentage')\r\n",
        "plt.xlabel('Iteration (in every 500)')\r\n",
        "plt.show()"
      ],
      "execution_count": null,
      "outputs": [
        {
          "output_type": "stream",
          "text": [
            "[43.281510272071074, 44.48917268184342, 44.29483620210994, 42.337590227651305, 45.08606329816769, 44.48917268184342, 45.75235980011105, 42.4069961132704, 45.76624097723487]\n"
          ],
          "name": "stdout"
        },
        {
          "output_type": "display_data",
          "data": {
            "image/png": "[encoded data removed]",
            "text/plain": [
              "<Figure size 432x288 with 1 Axes>"
            ]
          },
          "metadata": {
            "tags": [],
            "needs_background": "light"
          }
        }
      ]
    },
    {
      "cell_type": "markdown",
      "metadata": {
        "id": "WYXgSF3vxtFO"
      },
      "source": [
        "# A Comprehensive Study between Loss and Accuracy"
      ]
    },
    {
      "cell_type": "markdown",
      "metadata": {
        "id": "w7FDw7QC5aDv"
      },
      "source": [
        "**Case 1**\r\n",
        "<div align=\"center\">\r\n",
        "<img src=\"https://drive.google.com/uc?id=1NOlJxbK017-ILi66rZLWceHSjDEug-PJ\" width=\"300\">\r\n",
        "<img src=\"https://drive.google.com/uc?id=1KcUZA4zX8rIW4HOy4wUWX0g5meuHaZzt\"width=\"300\">\r\n",
        "<figcaption>figure 4: Accuracy and Loss in Case 1 </figcaption>\r\n",
        "\r\n",
        "\r\n",
        "\r\n",
        "\r\n",
        "\r\n"
      ]
    },
    {
      "cell_type": "markdown",
      "metadata": {
        "id": "5sLkfpcjxivG"
      },
      "source": [
        "\r\n",
        "\r\n",
        "> At the Initial time the loss was higher and accuracy was lower. Then after few iterations the loss started decreasing almost linearly and the accuracy too increased linearly. But after 3000 iteration the loss suddenly goes up and so the accuracy goes down. Thus at last the loss was decreasing and achieved a **36.31%** accuracy. As the datapoint was too complex  I was not able to achieve a linear loss function graph.\r\n",
        "\r\n",
        "\r\n"
      ]
    },
    {
      "cell_type": "markdown",
      "metadata": {
        "id": "KKZNJ7ghvcHu"
      },
      "source": [
        "**Case 2**\r\n",
        "<div align=\"center\">\r\n",
        "<img src=\"https://drive.google.com/uc?id=15x5kvbkguiXpGFQkJv-uhAKdqJ80EK21\" width=\"300\">\r\n",
        "<img src=\"https://drive.google.com/uc?id=1DFTMitCbmITjYfBrbTEN-dFcYhyx1AiH\"width=\"300\">\r\n",
        "<figcaption>figure 5: Accuracy and Loss in Case2 </figcaption>"
      ]
    },
    {
      "cell_type": "markdown",
      "metadata": {
        "id": "avkIRN6y3F7N"
      },
      "source": [
        "> At the Initial time the loss was higher and accuracy was lower. After 1000 iteration the loss started decreasing almost linearly and the accuracy increased linearly. Then after 2000 iteration the loss suddenly goes up and so the accuracy goes down. Thus at last achieved a **37.32%** accuracy. As the datapoint was too complex  I was not able to achieve a linear loss function graph."
      ]
    },
    {
      "cell_type": "markdown",
      "metadata": {
        "id": "1uXBtWVBvcVw"
      },
      "source": [
        "**Case 3**\r\n",
        "<div align=\"center\">\r\n",
        "<img src=\"https://drive.google.com/uc?id=1NSVyN3ikvgcWxdXzXSaAB-eH8BYtYOlc\" width=\"300\">\r\n",
        "<img src=\"https://drive.google.com/uc?id=1EaGiUpsO8peuOGz7Xq7c6XXoZQOZj0vW\"width=\"300\">\r\n",
        "<figcaption>figure 6: Accuracy and Loss in Case3 </figcaption>"
      ]
    },
    {
      "cell_type": "markdown",
      "metadata": {
        "id": "CkUPjzp939UD"
      },
      "source": [
        "> At the Initial time the loss was higher and accuracy was lower. After 2000 iteration the loss started decreasing almost linearly and the accuracy too increased linearly. Thus at last the loss was increased slightly and achieved a **42.71%** accuracy. As the datapoint was too complex  I was not able to achieve a linear loss function graph."
      ]
    },
    {
      "cell_type": "markdown",
      "metadata": {
        "id": "jcydsyikvcs-"
      },
      "source": [
        "**Case 4**\r\n",
        "<div align=\"center\">\r\n",
        "<img src=\"https://drive.google.com/uc?id=178437tjJSUdwwcT3eOmqIDkyCpOHFNbu\" width=\"300\">\r\n",
        "<img src=\"https://drive.google.com/uc?id=1ZZMDd8pa9gEsdeswyB6K7Rb7XHItM6UA\"width=\"300\">\r\n",
        "<figcaption>figure 7: Accuracy and Loss in Case4 </figcaption>"
      ]
    },
    {
      "cell_type": "markdown",
      "metadata": {
        "id": "kGTSfMCX4YBy"
      },
      "source": [
        "> At the Initial time the loss was higher and accuracy was lower. After 2500 iteration the loss suddenly goes up and so the accuracy goes down. Thus at last the loss was decreasing almost linearly so the accuracy increased and achieved a **44.47%** accuracy. As the datapoint was too complex  I was not able to achieve a linear loss function graph."
      ]
    },
    {
      "cell_type": "markdown",
      "metadata": {
        "id": "3XOAUXgQvciI"
      },
      "source": [
        "**Case 5**\r\n",
        "<div align=\"center\">\r\n",
        "<img src=\"https://drive.google.com/uc?id=1BDwPl0RtNQF1mcWn12nrkpRRMbD56prH\" width=\"300\">\r\n",
        "<img src=\"https://drive.google.com/uc?id=1P6vcBJNvJvL6jA_P4-HfJDlGOE61Cslp\"width=\"300\">\r\n",
        "<figcaption>figure 8: Accuracy and Loss in Case5 </figcaption>"
      ]
    },
    {
      "cell_type": "markdown",
      "metadata": {
        "id": "w0WpsBAx459e"
      },
      "source": [
        "> At the Initial time the loss was higher and accuracy was lower. After 500 iterations the loss started decreasing almost linearly and the accuracy too decreased slightly.But after 2500 iteration the loss suddenly goes down and so the accuracy goes up.Thus at last the loss was increasing slightly and achieved a **45.76%** accuracy. As the datapoint was too complex I was not able to achieve a linear loss function graph."
      ]
    },
    {
      "cell_type": "markdown",
      "metadata": {
        "id": "yb5Ko0vfFoGl"
      },
      "source": [
        "#Best Model"
      ]
    },
    {
      "cell_type": "markdown",
      "metadata": {
        "id": "15k0fORHFtrY"
      },
      "source": [
        "**Hyper Parameter Values**\r\n",
        "\r\n",
        "$Batch$ $size = 420 $\r\n",
        "\r\n",
        "$Iteration =5500$\r\n",
        "\r\n",
        "$learning$ $Rate = 0.0009$\r\n",
        "\r\n",
        "\r\n"
      ]
    },
    {
      "cell_type": "markdown",
      "metadata": {
        "id": "elH7wBmvGjmb"
      },
      "source": [
        "$Accuracy($%$) = 45.76$"
      ]
    },
    {
      "cell_type": "code",
      "metadata": {
        "id": "0r9IBotj43yQ"
      },
      "source": [
        "save_model = True\n",
        "\n",
        "if save_model is True:\n",
        "    # Saves only parameters\n",
        "    # wights & biases\n",
        "    torch.save(model.state_dict(), PATH + 'Namta_logistic6.pkl') "
      ],
      "execution_count": null,
      "outputs": []
    },
    {
      "cell_type": "code",
      "metadata": {
        "id": "FpEljuZj43yR",
        "colab": {
          "base_uri": "https://localhost:8080/"
        },
        "outputId": "532db4b3-074b-4f9e-8531-365bd05b858a"
      },
      "source": [
        "load_model = True\n",
        "\n",
        "if load_model is True:\n",
        "    model.load_state_dict(torch.load(PATH + 'Namta_logistic6.pkl'))\n",
        "    print('Trained Model Loaded')"
      ],
      "execution_count": null,
      "outputs": [
        {
          "output_type": "stream",
          "text": [
            "Trained Model Loaded\n"
          ],
          "name": "stdout"
        }
      ]
    },
    {
      "cell_type": "code",
      "metadata": {
        "id": "tx6znrT543yR",
        "colab": {
          "base_uri": "https://localhost:8080/",
          "height": 109
        },
        "outputId": "407cefe1-1d30-4d55-e114-4eb1296c50f0"
      },
      "source": [
        "for images, labels in test_loader:\n",
        "    break\n",
        "    \n",
        "fig, ax = plt.subplots(1, 5)\n",
        "for i in range(5):\n",
        "    ax[i].imshow(images[i].view(28, 28), cmap=matplotlib.cm.binary)\n",
        "\n",
        "plt.show()"
      ],
      "execution_count": null,
      "outputs": [
        {
          "output_type": "display_data",
          "data": {
            "image/png": "[encoded data removed]",
            "text/plain": [
              "<Figure size 432x288 with 5 Axes>"
            ]
          },
          "metadata": {
            "tags": [],
            "needs_background": "light"
          }
        }
      ]
    },
    {
      "cell_type": "code",
      "metadata": {
        "id": "b35F1Zwh43yR",
        "colab": {
          "base_uri": "https://localhost:8080/"
        },
        "outputId": "47d0e3ad-2e75-4f67-bca8-dd3a230b0989"
      },
      "source": [
        "_, predictions = model.forward(images[:5].view(-1, 28*28).to(device))\n",
        "predictions = torch.argmax(predictions, dim=1)\n",
        "print('Predicted labels', predictions.cpu().numpy())"
      ],
      "execution_count": null,
      "outputs": [
        {
          "output_type": "stream",
          "text": [
            "Predicted labels [9 6 7 0 9]\n"
          ],
          "name": "stdout"
        }
      ]
    },
    {
      "cell_type": "markdown",
      "metadata": {
        "id": "eBtsiW_Dwvia"
      },
      "source": [
        "# Drive Links for Train Models\r\n",
        "\r\n",
        "> **Setting 1:** [https://drive.google.com/file/d/1GZUUwHmDK8SEmNwPkn39STAuuA0OV-F9/view?usp=sharing](https://)\r\n",
        "\r\n",
        "> **Setting 2:** [https://drive.google.com/file/d/1-1hdxxEGgggdThofPDOeHXkf0P7C8lcE/view?usp=sharing](https://)\r\n",
        "\r\n",
        "> **Setting 3:** [https://drive.google.com/file/d/1SeFAyQT2egQg0_QyoILwvBSyIVExjEz_/view?usp=sharing](https://)\r\n",
        "\r\n",
        "> **Setting 4:** [https://drive.google.com/file/d/1DTB7O2VMlQ7BNZerDUfP5Gu_0JSnNh8L/view?usp=sharing](https://)\r\n",
        "\r\n",
        "> **Setting 5:** [https://drive.google.com/file/d/16uCs99VNcnxE6xRbvEig7Qs_IZnFzSNn/view?usp=sharing](https://)\r\n"
      ]
    }
  ]
}