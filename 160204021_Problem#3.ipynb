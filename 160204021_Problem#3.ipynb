{
  "nbformat": 4,
  "nbformat_minor": 0,
  "metadata": {
    "colab": {
      "name": "160204021_Problem#3.ipynb",
      "provenance": [],
      "collapsed_sections": []
    },
    "kernelspec": {
      "display_name": "Python 3",
      "language": "python",
      "name": "python3"
    },
    "language_info": {
      "codemirror_mode": {
        "name": "ipython",
        "version": 3
      },
      "file_extension": ".py",
      "mimetype": "text/x-python",
      "name": "python",
      "nbconvert_exporter": "python",
      "pygments_lexer": "ipython3",
      "version": "3.8.5"
    }
  },
  "cells": [
    {
      "cell_type": "markdown",
      "metadata": {
        "id": "yc0p6pVie0SI"
      },
      "source": [
        "**For Accessing Drive Contents**"
      ]
    },
    {
      "cell_type": "code",
      "metadata": {
        "id": "9XxevdhpPbrR"
      },
      "source": [
        "from google.colab import drive\r\n",
        "drive.mount('/content/gdrive')"
      ],
      "execution_count": null,
      "outputs": []
    },
    {
      "cell_type": "markdown",
      "metadata": {
        "id": "GdX7OFO1Q1hJ"
      },
      "source": [
        "**NumtaDB** is a database.  The NumtaDB database contains handwritten Bengali digits (০ through ৯) and can provide a baseline for testing Bengali digit recognition using the machine and deep learning architecture.\r\n",
        "\r\n",
        "<div align=\"center\">\r\n",
        "<img src=\"https://drive.google.com/uc?id=1Y6Xy0VzlVYmKp-4ZZ8UNaCZ1mBT5WxP7\" width=\"300\">\r\n",
        "<img src=\"https://drive.google.com/uc?id=1TtnZP23KR-WRAvlXAIWNY_9zGIAiM_h0\"width=\"300\">\r\n",
        "<figcaption>figure 1: NumtaDB dataset Snapshot</figcaption>\r\n",
        "</div>\r\n",
        "\r\n"
      ]
    },
    {
      "cell_type": "markdown",
      "metadata": {
        "id": "IVzXN3AiSCSH"
      },
      "source": [
        "<div align=\"center\">\r\n",
        "<img src=\"https://drive.google.com/uc?id=1xe_bR1x1IDN-stNX5guGR6pfm3F5RQ3Q\" width=\"600\">\r\n",
        "<figcaption>figure 2: NumtDB Network </figcaption>\r\n",
        "<div/>\r\n",
        "\r\n",
        "\r\n",
        "\r\n"
      ]
    },
    {
      "cell_type": "markdown",
      "metadata": {
        "id": "GSnKmGjTXqlT"
      },
      "source": [
        "**Importing Necessary Libaries**"
      ]
    },
    {
      "cell_type": "code",
      "metadata": {
        "id": "fXR33WfI43yG"
      },
      "source": [
        "import os\n",
        "from os import path\n",
        "import shutil\n",
        "import numpy as np\n",
        "import pandas as pd\n",
        "import torch\n",
        "import torch.nn as nn\n",
        "import torch.nn.functional as F\n",
        "import torch.optim as optim\n",
        "from torch.utils.data import Dataset\n",
        "from torch.utils.data.sampler import SubsetRandomSampler\n",
        "from torchvision import datasets, transforms, models\n",
        "import matplotlib\n",
        "import matplotlib.pyplot as plt\n",
        "from PIL import Image"
      ],
      "execution_count": null,
      "outputs": []
    },
    {
      "cell_type": "markdown",
      "metadata": {
        "id": "bEusYYkSgyqi"
      },
      "source": [
        "- **Input dimension:**\r\n",
        "  - Size of image: $28 \\times 28 = 784$\r\n",
        "\r\n",
        "- **Output dimension: 10**\r\n",
        "  - ০   ১   ২   ৩   ৪   ৫   ৬   ৭   ৮   ৯ \r\n",
        "\r\n",
        "\r\n",
        "*   **Dataset Length : 54908**\r\n",
        "\r\n",
        "\r\n",
        "\r\n",
        "\r\n",
        "\r\n",
        "\r\n"
      ]
    },
    {
      "cell_type": "markdown",
      "metadata": {
        "id": "DWVnsa9We5hv"
      },
      "source": [
        "**Google Drive directory for Files**"
      ]
    },
    {
      "cell_type": "code",
      "metadata": {
        "colab": {
          "base_uri": "https://localhost:8080/"
        },
        "id": "fqbv1imR43yH",
        "outputId": "de2cfd3a-f1c6-481c-8ced-b10c04f57d3b"
      },
      "source": [
        "PATH = '/content/gdrive/MyDrive/sc_data_as1/namtadb/'\n",
        "os.listdir(PATH)"
      ],
      "execution_count": null,
      "outputs": [
        {
          "output_type": "execute_result",
          "data": {
            "text/plain": [
              "['Namta_logistic.pkl',\n",
              " 'Namta_logistic44.pkl',\n",
              " 'Namta_logistic45.pkl',\n",
              " 'Namta_logistica1.pkl',\n",
              " 'Namta_logistica2.pkl',\n",
              " 'Namta_logistica3.pkl',\n",
              " 'Namta_logistica4.pkl',\n",
              " 'Namta_logistica5.pkl',\n",
              " 'testing-a',\n",
              " 'testing-all-corrected',\n",
              " 'testing-auga',\n",
              " 'testing-augc',\n",
              " 'testing-b',\n",
              " 'testing-c',\n",
              " 'testing-d',\n",
              " 'testing-e',\n",
              " 'testing-f',\n",
              " 'train',\n",
              " 'training-a',\n",
              " 'training-a.csv',\n",
              " 'training-b',\n",
              " 'training-b.csv',\n",
              " 'training-c',\n",
              " 'training-c.csv',\n",
              " 'training-d',\n",
              " 'training-d.csv',\n",
              " 'training-e',\n",
              " 'training-e.csv',\n",
              " 'trainy3',\n",
              " 'trainy3csv']"
            ]
          },
          "metadata": {
            "tags": []
          },
          "execution_count": 3
        }
      ]
    },
    {
      "cell_type": "markdown",
      "metadata": {
        "id": "lQE51Lf1fCPO"
      },
      "source": [
        "**A function for reading data from CSV files**"
      ]
    },
    {
      "cell_type": "code",
      "metadata": {
        "id": "JT_9qTDN43yI"
      },
      "source": [
        "def showRawTrainingSamples(csv_filename):\n",
        "  df = pd.read_csv(PATH + csv_filename)\n",
        "  print(csv_filename)\n",
        "  print(df.columns)\n",
        "  return df"
      ],
      "execution_count": null,
      "outputs": []
    },
    {
      "cell_type": "code",
      "metadata": {
        "id": "xFRoPF-eSooR",
        "outputId": "9865c5c5-e6fc-43b0-ced7-9b7454833940"
      },
      "source": [
        "a_csv = showRawTrainingSamples('training-a.csv')\n",
        "c_csv = showRawTrainingSamples('training-c.csv')\n",
        "d_csv = showRawTrainingSamples('training-d.csv')"
      ],
      "execution_count": null,
      "outputs": [
        {
          "output_type": "stream",
          "text": [
            "training-a.csv\n",
            "Index(['filename', 'original filename', 'scanid', 'digit',\n",
            "       'database name original', 'contributing team', 'database name'],\n",
            "      dtype='object')\n",
            "training-c.csv\n",
            "Index(['filename', 'original filename', 'scanid', 'digit',\n",
            "       'database name original', 'contributing team', 'database name'],\n",
            "      dtype='object')\n",
            "training-d.csv\n",
            "Index(['original filename', 'scanid', 'digit', 'num', 'database name original',\n",
            "       'database name', 'filename'],\n",
            "      dtype='object')\n"
          ],
          "name": "stdout"
        }
      ]
    },
    {
      "cell_type": "code",
      "metadata": {
        "id": "BU-ishMn43yJ"
      },
      "source": [
        "def dropColumns(csv_file):\n",
        "  csv_file = csv_file[['filename', 'digit']]\n",
        "  print(csv_file)\n",
        "  print(csv_file.iloc[:5, :])   #First 5 Rows of the CSV File\n",
        "  print(\"=============================\")\n",
        "  return csv_file"
      ],
      "execution_count": null,
      "outputs": []
    },
    {
      "cell_type": "code",
      "metadata": {
        "id": "kM8VvMdvSooS",
        "outputId": "97776e52-6725-4f7f-c74d-d215da492136"
      },
      "source": [
        "a_csv = dropColumns(a_csv)\n",
        "c_csv = dropColumns(c_csv)\n",
        "d_csv = dropColumns(d_csv)"
      ],
      "execution_count": null,
      "outputs": [
        {
          "output_type": "stream",
          "text": [
            "         filename  digit\n",
            "0      a00000.png      5\n",
            "1      a00001.png      3\n",
            "2      a00002.png      1\n",
            "3      a00003.png      7\n",
            "4      a00004.png      0\n",
            "...           ...    ...\n",
            "19697  a19697.png      4\n",
            "19698  a19698.png      3\n",
            "19699  a19699.png      8\n",
            "19700  a19700.png      3\n",
            "19701  a19701.png      8\n",
            "\n",
            "[19702 rows x 2 columns]\n",
            "     filename  digit\n",
            "0  a00000.png      5\n",
            "1  a00001.png      3\n",
            "2  a00002.png      1\n",
            "3  a00003.png      7\n",
            "4  a00004.png      0\n",
            "=============================\n",
            "         filename  digit\n",
            "0      c00000.png      6\n",
            "1      c00001.png      1\n",
            "2      c00002.png      3\n",
            "3      c00003.png      2\n",
            "4      c00004.png      7\n",
            "...           ...    ...\n",
            "24293  c24293.png      3\n",
            "24294  c24294.png      2\n",
            "24295  c24295.png      7\n",
            "24296  c24296.png      2\n",
            "24297  c24297.png      7\n",
            "\n",
            "[24298 rows x 2 columns]\n",
            "     filename  digit\n",
            "0  c00000.png      6\n",
            "1  c00001.png      1\n",
            "2  c00002.png      3\n",
            "3  c00003.png      2\n",
            "4  c00004.png      7\n",
            "=============================\n",
            "         filename  digit\n",
            "0      d00000.png      1\n",
            "1      d00001.png      1\n",
            "2      d00002.png      5\n",
            "3      d00003.png      7\n",
            "4      d00004.png      0\n",
            "...           ...    ...\n",
            "10903  d10903.png      8\n",
            "10904  d10904.png      6\n",
            "10905  d10905.png      1\n",
            "10906  d10906.png      6\n",
            "10907  d10907.png      1\n",
            "\n",
            "[10908 rows x 2 columns]\n",
            "     filename  digit\n",
            "0  d00000.png      1\n",
            "1  d00001.png      1\n",
            "2  d00002.png      5\n",
            "3  d00003.png      7\n",
            "4  d00004.png      0\n",
            "=============================\n"
          ],
          "name": "stdout"
        }
      ]
    },
    {
      "cell_type": "markdown",
      "metadata": {
        "id": "Mqt-tOK9h3V7"
      },
      "source": [
        "**Merging CSV files**"
      ]
    },
    {
      "cell_type": "code",
      "metadata": {
        "id": "yDN7uQHxSooS",
        "outputId": "4a0add5b-c413-447f-cd07-dac719a20d79"
      },
      "source": [
        "total_csv = [a_csv, c_csv,d_csv]\n",
        "merged_csv = pd.concat(total_csv)\n",
        "print(len(merged_csv))"
      ],
      "execution_count": null,
      "outputs": [
        {
          "output_type": "stream",
          "text": [
            "54908\n"
          ],
          "name": "stdout"
        }
      ]
    },
    {
      "cell_type": "markdown",
      "metadata": {
        "id": "DZ-2bXQGiCao"
      },
      "source": [
        "**Create a Path for merged Images on Drive**"
      ]
    },
    {
      "cell_type": "code",
      "metadata": {
        "id": "PkzlpcxT43yK"
      },
      "source": [
        "TRAIN_PATH = '/content/gdrive/MyDrive/sc_data_as1/namtadb/trainy'\n",
        "#os.mkdir(TRAIN_PATH)"
      ],
      "execution_count": null,
      "outputs": []
    },
    {
      "cell_type": "markdown",
      "metadata": {
        "id": "R6PtgCoLiKfx"
      },
      "source": [
        "**Merging image Function**"
      ]
    },
    {
      "cell_type": "code",
      "metadata": {
        "id": "-8phrF-p43yK"
      },
      "source": [
        "def processImages(folder_name):\n",
        "  src = PATH + folder_name + '/'\n",
        "  dir_folders = os.listdir(src)\n",
        "  for dir_name in dir_folders:\n",
        "    file_name = os.path.join(src, dir_name)\n",
        "    if os.path.isfile(file_name):\n",
        "      shutil.copy(file_name, TRAIN_PATH)"
      ],
      "execution_count": null,
      "outputs": []
    },
    {
      "cell_type": "code",
      "metadata": {
        "id": "UCeGsgODSooU",
        "outputId": "c680ec45-d02c-44eb-9ecb-435f2fd7a44e"
      },
      "source": [
        "processImages('training-a')\n",
        "print('A Complete')\n",
        "processImages('training-c')\n",
        "print('C Complete')\n",
        "processImages('training-d')\n",
        "print('D Complete')"
      ],
      "execution_count": null,
      "outputs": [
        {
          "output_type": "stream",
          "text": [
            "A Complete\n",
            "C Complete\n",
            "D Complete\n"
          ],
          "name": "stdout"
        }
      ]
    },
    {
      "cell_type": "markdown",
      "metadata": {
        "id": "YWkSADdEiUPz"
      },
      "source": [
        "**Create a Custom Dataset Function**"
      ]
    },
    {
      "cell_type": "code",
      "metadata": {
        "id": "_0oii8Ze43yL"
      },
      "source": [
        "class Dataset(Dataset):\n",
        "    def __init__(self, df, root, transform=None):\n",
        "        self.data = df\n",
        "        self.root = root\n",
        "        self.transform = transform\n",
        "    def __len__(self):\n",
        "        return len(self.data)\n",
        "    \n",
        "    def __getitem__(self, index):\n",
        "        item = self.data.iloc[index]\n",
        "        \n",
        "        path = self.root + \"/\" + item[0]\n",
        "        image = Image.open(path).convert('L')\n",
        "        label = item[1]\n",
        "        \n",
        "        if self.transform is not None:\n",
        "            image = self.transform(image)\n",
        "            \n",
        "        return image, label"
      ],
      "execution_count": null,
      "outputs": []
    },
    {
      "cell_type": "code",
      "metadata": {
        "colab": {
          "base_uri": "https://localhost:8080/"
        },
        "id": "OMyv8LHl43yL",
        "outputId": "e5f30f16-64d3-4be7-cdaa-e88a78df4070"
      },
      "source": [
        "mean = [0.5,]\n",
        "std = [0.5, ]\n",
        "c=1\n",
        "\n",
        "train_transform = transforms.Compose([\n",
        "    transforms.Grayscale(c),\n",
        "    transforms.Resize(28),\n",
        "    transforms.ToTensor(),\n",
        "    transforms.Normalize(mean, std)\n",
        "])\n",
        "\n",
        "test_transform = transforms.Compose([\n",
        "        transforms.Grayscale(c),\n",
        "        transforms.Resize(28),\n",
        "        transforms.ToTensor(),\n",
        "        transforms.Normalize(mean, std)\n",
        "])\n",
        "\n",
        "train_data  = Dataset(merged_csv, TRAIN_PATH, train_transform)\n",
        "test_data = Dataset(merged_csv, TRAIN_PATH, test_transform)\n",
        "\n",
        "print(\"Trainig Samples: \",len(train_data))"
      ],
      "execution_count": null,
      "outputs": [
        {
          "output_type": "stream",
          "text": [
            "Trainig Samples:  54908\n"
          ],
          "name": "stdout"
        }
      ]
    },
    {
      "cell_type": "markdown",
      "metadata": {
        "id": "TkcO6kypWdrz"
      },
      "source": [
        "#Hyper Parameter\r\n",
        "\r\n",
        "\r\n",
        "*  **Epochs:**\r\n",
        "One Epoch is when an entire dataset is passed forward and backward through the neural network only once.\r\n",
        "*  **Batch Size:**\r\n",
        "Total number of training examples present in a single batch.\r\n",
        "\r\n",
        "*  **Iterations:** Iterations is the number of batches needed to complete one epoch.\r\n",
        "\r\n",
        "\r\n",
        "* **Learning Rate:** The amount that the weights are updated during training is referred to as the step size or the “learning rate.”\r\n",
        "\r\n",
        "\r\n",
        "\r\n",
        "\r\n",
        "\r\n",
        "\r\n",
        "\r\n",
        "\r\n",
        "\r\n"
      ]
    },
    {
      "cell_type": "markdown",
      "metadata": {
        "id": "wr5iS_8xicAj"
      },
      "source": [
        "#**Hyper Parameter Tuning**"
      ]
    },
    {
      "cell_type": "markdown",
      "metadata": {
        "id": "flAK06JN4sem"
      },
      "source": [
        "##Case 01\r\n",
        " I took  **batch size**,**iteration** and **learning rate** in accordance of **400,12000,0.0009**.The length of the dataset was 54908. So,\r\n",
        "\r\n",
        "> $epoch$ $number = (12000*400)/54908 = 87 epoches$\r\n",
        "\r\n",
        "\r\n",
        "> For this Setting I used 3 layer Deep Neural Network Model. In the first Layer, I used the LeakyReLU activation function. Then in the second layer, I used the same activation and In the final layer, I used ReLu as activation.\r\n",
        "\r\n",
        "\r\n",
        "> In the first Layer I used 200 as hidden layer value, in the second layer I used 100 as Hidden Layer value and in the third 50 as hidden layer value.\r\n",
        "\r\n",
        "\r\n",
        "\r\n",
        "\r\n",
        "\r\n",
        "> After Implementing I found **82.16%** accuracy with this setting.\r\n",
        "\r\n",
        "\r\n",
        "\r\n",
        "\r\n",
        "           \r\n",
        "\r\n"
      ]
    },
    {
      "cell_type": "code",
      "metadata": {
        "id": "enK7xmgyhdsV"
      },
      "source": [
        "#setting hpt 2\n",
        "#Case2\n",
        "#HyperParameterTuning6\n",
        "batch_size = 400\n",
        "num_iters = 12000\n",
        "input_dim = 28*28 # num_features = 784\n",
        "output_dim = 10\n",
        "num_hidden = 200\n",
        "num_hidden1 = 100\n",
        "num_hidden2 = 50\n",
        "\n",
        "learning_rate = 0.0009\n",
        "# Device\n",
        "device = torch.device(\"cuda:0\" if torch.cuda.is_available() else \"cpu\")"
      ],
      "execution_count": null,
      "outputs": []
    },
    {
      "cell_type": "markdown",
      "metadata": {
        "id": "VkYcDSK2cR7t"
      },
      "source": [
        "**Sending data to train and test loader**"
      ]
    },
    {
      "cell_type": "code",
      "metadata": {
        "id": "NjcLj3Nt43yM"
      },
      "source": [
        "# split data 10% for testing\n",
        "test_size = 0.1\n",
        "train_data[0]\n",
        "# obtain training indices that will be used for validation\n",
        "num_train = len(train_data)\n",
        "\n",
        "# mix data\n",
        "# index of num of train\n",
        "indices = list(range(num_train))\n",
        "#print(indices)\n",
        "# random the index\n",
        "np.random.shuffle(indices)\n",
        "split = int(np.floor(test_size * num_train))\n",
        "#print(split)\n",
        "# divied into two part\n",
        "train_idx, test_idx = indices[split:], indices[:split]\n",
        "#print(train_idx)\n",
        "#print(test_idx)\n",
        "\n",
        "# define the sampler\n",
        "train_sampler = SubsetRandomSampler(train_idx)\n",
        "test_sampler = SubsetRandomSampler(test_idx)\n",
        "#print(train_sampler)\n",
        "#print(test_sampler)\n",
        "# prepare loaders\n",
        "train_loader = torch.utils.data.DataLoader(\n",
        "    train_data, batch_size=batch_size,\n",
        "    sampler=train_sampler)\n",
        "\n",
        "test_loader = torch.utils.data.DataLoader(\n",
        "    test_data, batch_size=batch_size,\n",
        "    sampler=test_sampler)\n",
        "\n",
        "#print(\"Train dataloader:{}\".format(len(train_loader)))\n",
        "#print(\"Test dataloader:{}\".format(len(test_loader)))"
      ],
      "execution_count": null,
      "outputs": []
    },
    {
      "cell_type": "code",
      "metadata": {
        "colab": {
          "base_uri": "https://localhost:8080/"
        },
        "id": "p1YeRDb443yM",
        "outputId": "837682ed-d9f0-42a9-da99-9282c5478942"
      },
      "source": [
        "num_epochs = num_iters / (len(train_data) / batch_size)\n",
        "num_epochs = int(num_epochs)\n",
        "print(num_epochs)\n",
        "print(len(train_idx))\n",
        "print(len(test_idx))"
      ],
      "execution_count": null,
      "outputs": [
        {
          "output_type": "stream",
          "text": [
            "87\n",
            "49418\n",
            "5490\n"
          ],
          "name": "stdout"
        }
      ]
    },
    {
      "cell_type": "code",
      "metadata": {
        "id": "iMacnM7rSoob"
      },
      "source": [
        "#hp2\n",
        "class DeepNeuralNetworkModel(nn.Module):\n",
        "    def __init__(self, input_size, num_classes, num_hidden):\n",
        "        super().__init__()\n",
        "        ### 1st hidden layer: 784 --> 100\n",
        "        self.linear_1 = nn.Linear(input_size, num_hidden)\n",
        "        ### Non-linearity in 1st hidden layer\n",
        "        self.relu_1 = nn.LeakyReLU()\n",
        "\n",
        "        ### 2nd hidden layer: 100 --> 100\n",
        "        self.linear_2 = nn.Linear(num_hidden, num_hidden1)\n",
        "        ### Non-linearity in 2nd hidden layer\n",
        "        self.relu_2 = nn.LeakyReLU()\n",
        "\n",
        "        ### 3rd hidden layer: 100 --> 100\n",
        "        self.linear_3 = nn.Linear(num_hidden1, num_hidden2)\n",
        "        ### Non-linearity in 3rd hidden layer\n",
        "        self.relu_3 = nn.ReLU()\n",
        "        \n",
        "\n",
        "        ### Output layer: 100 --> 10\n",
        "        self.linear_out = nn.Linear(num_hidden2, num_classes)\n",
        "\n",
        "    def forward(self, x):\n",
        "        ### 1st hidden layer\n",
        "        out  = self.linear_1(x)\n",
        "        ### Non-linearity in 1st hidden layer\n",
        "        out = self.relu_1(out)\n",
        "        \n",
        "        ### 2nd hidden layer\n",
        "        out  = self.linear_2(out)\n",
        "        ### Non-linearity in 2nd hidden layer\n",
        "        out = self.relu_2(out)\n",
        "\n",
        "        ### 3rd hidden layer\n",
        "        out  = self.linear_3(out)\n",
        "        out = self.relu_3(out)\n",
        "        \n",
        "        # Linear layer (output)\n",
        "        probas  = self.linear_out(out)\n",
        "        return probas"
      ],
      "execution_count": null,
      "outputs": []
    },
    {
      "cell_type": "code",
      "metadata": {
        "colab": {
          "base_uri": "https://localhost:8080/"
        },
        "id": "O0LMi7CM71Mm",
        "outputId": "df104e00-8f5f-471e-9150-273df1a24baa"
      },
      "source": [
        "'''\n",
        "INSTANTIATE MODEL CLASS\n",
        "'''\n",
        "model = DeepNeuralNetworkModel(input_size=input_dim,\n",
        "                                num_classes=output_dim,\n",
        "                                num_hidden = num_hidden)\n",
        "\n",
        "#To enable GPU\n",
        "model.to(device)"
      ],
      "execution_count": null,
      "outputs": [
        {
          "output_type": "execute_result",
          "data": {
            "text/plain": [
              "DeepNeuralNetworkModel(\n",
              "  (linear_1): Linear(in_features=784, out_features=200, bias=True)\n",
              "  (relu_1): LeakyReLU(negative_slope=0.01)\n",
              "  (linear_2): Linear(in_features=200, out_features=100, bias=True)\n",
              "  (relu_2): LeakyReLU(negative_slope=0.01)\n",
              "  (linear_3): Linear(in_features=100, out_features=50, bias=True)\n",
              "  (relu_3): ReLU()\n",
              "  (linear_out): Linear(in_features=50, out_features=10, bias=True)\n",
              ")"
            ]
          },
          "metadata": {
            "tags": []
          },
          "execution_count": 18
        }
      ]
    },
    {
      "cell_type": "markdown",
      "metadata": {
        "id": "HLVu7U8giICX"
      },
      "source": [
        "**For optimizer I used Adam**\r\n",
        "\r\n",
        "The Adam optimization algorithm is an extension to stochastic gradient descent that has recently seen broader adoption for deep learning applications in computer vision and natural language processing."
      ]
    },
    {
      "cell_type": "code",
      "metadata": {
        "id": "6mI_lFQnOfud",
        "outputId": "7c04f5f8-6475-4a30-cb1d-e8a67870c95b"
      },
      "source": [
        "# INSTANTIATE OPTIMIZER CLASS\n",
        "#optimizer = torch.optim.SGD(model.parameters(), lr=learning_rate)\n",
        "optimizer = torch.optim.Adam(model.parameters(), lr=learning_rate)\n",
        "train_data[18][0].numpy().shape"
      ],
      "execution_count": null,
      "outputs": [
        {
          "output_type": "execute_result",
          "data": {
            "text/plain": [
              "(1, 28, 28)"
            ]
          },
          "metadata": {
            "tags": []
          },
          "execution_count": 43
        }
      ]
    },
    {
      "cell_type": "code",
      "metadata": {
        "id": "V1Oy4HT4Sooc"
      },
      "source": [
        "criterion = nn.CrossEntropyLoss()"
      ],
      "execution_count": null,
      "outputs": []
    },
    {
      "cell_type": "code",
      "metadata": {
        "id": "njteIDrlVRSV",
        "outputId": "0c4fc5e0-3ae2-42be-92f6-2d0974780b21"
      },
      "source": [
        "#hp2\n",
        "iter = 0\n",
        "for epoch in range(num_epochs):\n",
        "    for i, (images, labels) in enumerate(train_loader):\n",
        "\n",
        "        images = images.view(-1, 28*28).to(device)\n",
        "        labels = labels.to(device)\n",
        "\n",
        "        # Clear gradients w.r.t. parameters\n",
        "        optimizer.zero_grad()\n",
        "\n",
        "        # Forward pass to get output/logits\n",
        "        outputs = model(images) \n",
        "\n",
        "        # Calculate Loss: softmax --> cross entropy loss\n",
        "        loss = criterion(outputs, labels)\n",
        "\n",
        "        # Getting gradients w.r.t. parameters\n",
        "        loss.backward()\n",
        "\n",
        "        # Updating parameters\n",
        "        optimizer.step()\n",
        "\n",
        "        iter += 1\n",
        "\n",
        "        if iter % 500 == 0:\n",
        "            # Calculate Accuracy         \n",
        "            correct = 0\n",
        "            total = 0\n",
        "            # Iterate through test dataset\n",
        "            for images, labels in test_loader:\n",
        "               \n",
        "                images = images.view(-1, 28*28).to(device)\n",
        "\n",
        "                # Forward pass only to get logits/output\n",
        "                outputs = model(images)\n",
        "\n",
        "                # Get predictions from the maximum value\n",
        "                _, predicted = torch.max(outputs, 1)\n",
        "\n",
        "                # Total number of labels\n",
        "                total += labels.size(0)\n",
        "\n",
        "\n",
        "                # Total correct predictions\n",
        "                if torch.cuda.is_available():\n",
        "                    correct += (predicted.cpu() == labels.cpu()).sum() \n",
        "                else:\n",
        "                    correct += (predicted == labels).sum()\n",
        "\n",
        "            accuracy = 100 * correct.item() / total\n",
        "\n",
        "            # Print Loss\n",
        "            print('Iteration: {}. Loss: {}. Accuracy: {}'.format(iter, loss.item(), accuracy))\n"
      ],
      "execution_count": null,
      "outputs": [
        {
          "output_type": "stream",
          "text": [
            "Iteration: 500. Loss: 1.876231074333191. Accuracy: 35.40983606557377\n",
            "Iteration: 1000. Loss: 1.7023825645446777. Accuracy: 43.29690346083789\n",
            "Iteration: 1500. Loss: 1.4085110425949097. Accuracy: 48.233151183970854\n",
            "Iteration: 2000. Loss: 1.3646397590637207. Accuracy: 55.591985428051004\n",
            "Iteration: 2500. Loss: 1.2306727170944214. Accuracy: 60.58287795992714\n",
            "Iteration: 3000. Loss: 1.075369954109192. Accuracy: 62.677595628415304\n",
            "Iteration: 3500. Loss: 0.984040379524231. Accuracy: 68.79781420765028\n",
            "Iteration: 4000. Loss: 0.9830719232559204. Accuracy: 70.09107468123861\n",
            "Iteration: 4500. Loss: 0.8626294136047363. Accuracy: 72.55009107468123\n",
            "Iteration: 5000. Loss: 0.8057286739349365. Accuracy: 71.43897996357013\n",
            "Iteration: 5500. Loss: 0.910329282283783. Accuracy: 73.80692167577413\n",
            "Iteration: 6000. Loss: 0.791054368019104. Accuracy: 76.28415300546447\n",
            "Iteration: 6500. Loss: 0.6918980479240417. Accuracy: 73.24225865209472\n",
            "Iteration: 7000. Loss: 0.5957208871841431. Accuracy: 76.6120218579235\n",
            "Iteration: 7500. Loss: 0.6398990750312805. Accuracy: 78.32422586520947\n",
            "Iteration: 8000. Loss: 0.653847336769104. Accuracy: 76.6120218579235\n",
            "Iteration: 8500. Loss: 0.6507672667503357. Accuracy: 80.45537340619308\n",
            "Iteration: 9000. Loss: 0.6419187784194946. Accuracy: 79.18032786885246\n",
            "Iteration: 9500. Loss: 0.5770039558410645. Accuracy: 81.4936247723133\n",
            "Iteration: 10000. Loss: 0.5222194194793701. Accuracy: 78.06921675774134\n",
            "Iteration: 10500. Loss: 0.4780258536338806. Accuracy: 82.16757741347905\n"
          ],
          "name": "stdout"
        }
      ]
    },
    {
      "cell_type": "markdown",
      "metadata": {
        "id": "PuKdD3k0c25t"
      },
      "source": [
        "##Case 02\r\n",
        " I took  **batch size**,**iteration** and **learning rate** in accordance of **400,11000,0.0009**.The length of the dataset was 54908. So,\r\n",
        "\r\n",
        "> $epoch$ $number = (11000*400)/54908 = 80 epoches$\r\n",
        "\r\n",
        "> For this Setting I used 3 layer Deep Neural Network Model. In the first Layer, I used the SiLU activation function. Then in the second layer, I used the LeakyReLU activation and In the final layer, I used ReLu as activation.\r\n",
        "\r\n",
        "\r\n",
        "> In the first Layer I used 200 as hidden layer value, in the second layer I used 100 as Hidden Layer value, and in the third 50 as hidden layer value.\r\n",
        "\r\n",
        "> After Implementing I found **78.17%** accuracy with this setting.\r\n",
        "\r\n",
        "\r\n",
        "\r\n",
        "\r\n",
        "           \r\n",
        "\r\n"
      ]
    },
    {
      "cell_type": "code",
      "metadata": {
        "id": "o_YbGvZE43yL"
      },
      "source": [
        "#setting hpt 3\n",
        "#Case2\n",
        "#HyperParameterTuning6\n",
        "batch_size = 400\n",
        "num_iters = 11000\n",
        "input_dim = 28*28 # num_features = 784\n",
        "output_dim = 10\n",
        "num_hidden = 200\n",
        "num_hidden1 = 100\n",
        "num_hidden2 = 50\n",
        "learning_rate = 0.0009\n",
        "# Device\n",
        "device = torch.device(\"cuda:0\" if torch.cuda.is_available() else \"cpu\")"
      ],
      "execution_count": null,
      "outputs": []
    },
    {
      "cell_type": "markdown",
      "metadata": {
        "id": "6Z0Vm-6fxPt4"
      },
      "source": [
        "**Sending data to train and test loader**"
      ]
    },
    {
      "cell_type": "code",
      "metadata": {
        "id": "OSF33NgaA2gq"
      },
      "source": [
        "# split data 10% for testing\n",
        "test_size = 0.1\n",
        "train_data[0]\n",
        "# obtain training indices that will be used for validation\n",
        "num_train = len(train_data)\n",
        "\n",
        "# mix data\n",
        "# index of num of train\n",
        "indices = list(range(num_train))\n",
        "#print(indices)\n",
        "# random the index\n",
        "np.random.shuffle(indices)\n",
        "split = int(np.floor(test_size * num_train))\n",
        "#print(split)\n",
        "# divied into two part\n",
        "train_idx, test_idx = indices[split:], indices[:split]\n",
        "#print(train_idx)\n",
        "#print(test_idx)\n",
        "\n",
        "# define the sampler\n",
        "train_sampler = SubsetRandomSampler(train_idx)\n",
        "test_sampler = SubsetRandomSampler(test_idx)\n",
        "#print(train_sampler)\n",
        "#print(test_sampler)\n",
        "# prepare loaders\n",
        "train_loader = torch.utils.data.DataLoader(\n",
        "    train_data, batch_size=batch_size,\n",
        "    sampler=train_sampler)\n",
        "\n",
        "test_loader = torch.utils.data.DataLoader(\n",
        "    test_data, batch_size=batch_size,\n",
        "    sampler=test_sampler)\n",
        "\n",
        "#print(\"Train dataloader:{}\".format(len(train_loader)))\n",
        "#print(\"Test dataloader:{}\".format(len(test_loader)))"
      ],
      "execution_count": null,
      "outputs": []
    },
    {
      "cell_type": "code",
      "metadata": {
        "colab": {
          "base_uri": "https://localhost:8080/"
        },
        "id": "NDb8KapIVz1I",
        "outputId": "837682ed-d9f0-42a9-da99-9282c5478942"
      },
      "source": [
        "num_epochs = num_iters / (len(train_data) / batch_size)\n",
        "num_epochs = int(num_epochs)\n",
        "print(num_epochs)\n",
        "print(len(train_idx))\n",
        "print(len(test_idx))"
      ],
      "execution_count": null,
      "outputs": [
        {
          "output_type": "stream",
          "text": [
            "80\n",
            "49418\n",
            "5490\n"
          ],
          "name": "stdout"
        }
      ]
    },
    {
      "cell_type": "code",
      "metadata": {
        "id": "_ijXG4L5Sooa"
      },
      "source": [
        "#hp3\n",
        "class DeepNeuralNetworkModel(nn.Module):\n",
        "    def __init__(self, input_size, num_classes, num_hidden):\n",
        "        super().__init__()\n",
        "        ### 1st hidden layer: 784 --> 100\n",
        "        self.linear_1 = nn.Linear(input_size, num_hidden)\n",
        "        ### Non-linearity in 1st hidden layer\n",
        "        self.tanh = nn.SiLU()\n",
        "\n",
        "        ### 2nd hidden layer: 100 --> 100\n",
        "        self.linear_2 = nn.Linear(num_hidden, num_hidden1)\n",
        "        ### Non-linearity in 2nd hidden layer\n",
        "        self.relu_2 = nn.LeakyReLU()\n",
        "\n",
        "        ### 3rd hidden layer: 100 --> 100\n",
        "        self.linear_3 = nn.Linear(num_hidden1, num_hidden2)\n",
        "        ### Non-linearity in 3rd hidden layer\n",
        "        self.relu_3 = nn.ReLU()\n",
        "        \n",
        "        ### Output layer: 100 --> 10\n",
        "        self.linear_out = nn.Linear(num_hidden2, num_classes)\n",
        "\n",
        "    def forward(self, x):\n",
        "        ### 1st hidden layer\n",
        "        out  = self.linear_1(x)\n",
        "        ### Non-linearity in 1st hidden layer\n",
        "        out = self.tanh(out)\n",
        "        \n",
        "        ### 2nd hidden layer\n",
        "        out  = self.linear_2(out)\n",
        "        ### Non-linearity in 2nd hidden layer\n",
        "        out = self.relu_2(out)\n",
        "\n",
        "        ### 3rd hidden layer\n",
        "        out  = self.linear_3(out)\n",
        "        out = self.relu_3(out)\n",
        "        \n",
        "       \n",
        "        \n",
        "        # Linear layer (output)\n",
        "        probas  = self.linear_out(out)\n",
        "        return probas"
      ],
      "execution_count": null,
      "outputs": []
    },
    {
      "cell_type": "code",
      "metadata": {
        "colab": {
          "base_uri": "https://localhost:8080/"
        },
        "id": "QaPFZJjfW9Db",
        "outputId": "df104e00-8f5f-471e-9150-273df1a24baa"
      },
      "source": [
        "'''\n",
        "INSTANTIATE MODEL CLASS\n",
        "'''\n",
        "model = DeepNeuralNetworkModel(input_size=input_dim,\n",
        "                                num_classes=output_dim,\n",
        "                                num_hidden = num_hidden)\n",
        "\n",
        "#To enable GPU\n",
        "model.to(device)"
      ],
      "execution_count": null,
      "outputs": [
        {
          "output_type": "execute_result",
          "data": {
            "text/plain": [
              "DeepNeuralNetworkModel(\n",
              "  (linear_1): Linear(in_features=784, out_features=200, bias=True)\n",
              "  (tanh): SiLU()\n",
              "  (linear_2): Linear(in_features=200, out_features=100, bias=True)\n",
              "  (relu_2): LeakyReLU(negative_slope=0.01)\n",
              "  (linear_3): Linear(in_features=100, out_features=50, bias=True)\n",
              "  (relu_3): ReLU()\n",
              "  (linear_out): Linear(in_features=50, out_features=10, bias=True)\n",
              ")"
            ]
          },
          "metadata": {
            "tags": []
          },
          "execution_count": 24
        }
      ]
    },
    {
      "cell_type": "markdown",
      "metadata": {
        "id": "OzZYf7SSxi1B"
      },
      "source": [
        "**For optimizer I used Adam**\r\n",
        "\r\n",
        "The Adam optimization algorithm is an extension to stochastic gradient descent that has recently seen broader adoption for deep learning applications in computer vision and natural language processing."
      ]
    },
    {
      "cell_type": "code",
      "metadata": {
        "colab": {
          "base_uri": "https://localhost:8080/"
        },
        "id": "-i0xvdf1Xc1P",
        "outputId": "7b052698-ca21-47f1-bf63-95ba57d0ab8f"
      },
      "source": [
        "# INSTANTIATE OPTIMIZER CLASS\n",
        "#optimizer = torch.optim.SGD(model.parameters(), lr=learning_rate)\n",
        "optimizer = torch.optim.Adam(model.parameters(), lr=learning_rate)\n",
        "train_data[18][0].numpy().shape"
      ],
      "execution_count": null,
      "outputs": [
        {
          "output_type": "execute_result",
          "data": {
            "text/plain": [
              "(1, 28, 28)"
            ]
          },
          "metadata": {
            "tags": []
          },
          "execution_count": 25
        }
      ]
    },
    {
      "cell_type": "code",
      "metadata": {
        "id": "tRP3pEOvXh3H"
      },
      "source": [
        "criterion = nn.CrossEntropyLoss()"
      ],
      "execution_count": null,
      "outputs": []
    },
    {
      "cell_type": "code",
      "metadata": {
        "id": "mrzjqWUH9z9U",
        "outputId": "3b3d533c-6eb9-45e7-9787-37937586d371"
      },
      "source": [
        "#hp3\n",
        "iter = 0\n",
        "for epoch in range(num_epochs):\n",
        "    for i, (images, labels) in enumerate(train_loader):\n",
        "\n",
        "        images = images.view(-1, 28*28).to(device)\n",
        "        labels = labels.to(device)\n",
        "\n",
        "        # Clear gradients w.r.t. parameters\n",
        "        optimizer.zero_grad()\n",
        "\n",
        "        # Forward pass to get output/logits\n",
        "        outputs = model(images) \n",
        "\n",
        "        # Calculate Loss: softmax --> cross entropy loss\n",
        "        loss = criterion(outputs, labels)\n",
        "\n",
        "        # Getting gradients w.r.t. parameters\n",
        "        loss.backward()\n",
        "\n",
        "        # Updating parameters\n",
        "        optimizer.step()\n",
        "\n",
        "        iter += 1\n",
        "\n",
        "        if iter % 500 == 0:\n",
        "            # Calculate Accuracy         \n",
        "            correct = 0\n",
        "            total = 0\n",
        "            # Iterate through test dataset\n",
        "            for images, labels in test_loader:\n",
        "               \n",
        "                images = images.view(-1, 28*28).to(device)\n",
        "\n",
        "                # Forward pass only to get logits/output\n",
        "                outputs = model(images)\n",
        "\n",
        "                # Get predictions from the maximum value\n",
        "                _, predicted = torch.max(outputs, 1)\n",
        "\n",
        "                # Total number of labels\n",
        "                total += labels.size(0)\n",
        "\n",
        "\n",
        "                # Total correct predictions\n",
        "                if torch.cuda.is_available():\n",
        "                    correct += (predicted.cpu() == labels.cpu()).sum() \n",
        "                else:\n",
        "                    correct += (predicted == labels).sum()\n",
        "\n",
        "            accuracy = 100 * correct.item() / total\n",
        "\n",
        "            # Print Loss\n",
        "            print('Iteration: {}. Loss: {}. Accuracy: {}'.format(iter, loss.item(), accuracy))"
      ],
      "execution_count": null,
      "outputs": [
        {
          "output_type": "stream",
          "text": [
            "Iteration: 500. Loss: 1.7806227207183838. Accuracy: 34.3351548269581\n",
            "Iteration: 1000. Loss: 1.577865719795227. Accuracy: 41.93078324225865\n",
            "Iteration: 1500. Loss: 1.2760528326034546. Accuracy: 55.3551912568306\n",
            "Iteration: 2000. Loss: 1.1734527349472046. Accuracy: 59.25318761384335\n",
            "Iteration: 2500. Loss: 1.1957111358642578. Accuracy: 60.892531876138435\n",
            "Iteration: 3000. Loss: 1.0195969343185425. Accuracy: 65.02732240437159\n",
            "Iteration: 3500. Loss: 0.9943625926971436. Accuracy: 67.41347905282332\n",
            "Iteration: 4000. Loss: 0.9125356078147888. Accuracy: 68.08743169398907\n",
            "Iteration: 4500. Loss: 0.827934980392456. Accuracy: 70.0\n",
            "Iteration: 5000. Loss: 0.7869237661361694. Accuracy: 73.1511839708561\n",
            "Iteration: 5500. Loss: 0.6833692193031311. Accuracy: 72.73224043715847\n",
            "Iteration: 6000. Loss: 0.7569196820259094. Accuracy: 75.77413479052824\n",
            "Iteration: 6500. Loss: 0.6431966423988342. Accuracy: 72.11293260473589\n",
            "Iteration: 7000. Loss: 0.6190274357795715. Accuracy: 76.48451730418944\n",
            "Iteration: 7500. Loss: 0.6449233293533325. Accuracy: 78.97996357012751\n",
            "Iteration: 8000. Loss: 0.6661843061447144. Accuracy: 79.61748633879782\n",
            "Iteration: 8500. Loss: 0.6404688954353333. Accuracy: 77.72313296903461\n",
            "Iteration: 9000. Loss: 0.5429942011833191. Accuracy: 80.18214936247723\n",
            "Iteration: 9500. Loss: 0.4939878582954407. Accuracy: 78.17850637522768\n"
          ],
          "name": "stdout"
        }
      ]
    },
    {
      "cell_type": "markdown",
      "metadata": {
        "id": "8ALSSfjZc6Wz"
      },
      "source": [
        "##Case 03\r\n",
        "  I took  **batch size**,**iteration** and **learning rate** in accordance of **450,11000,0.0009**.The length of the dataset was 54908. So,\r\n",
        "\r\n",
        "> $epoch$ $number = (11000*450)/54908 = 90 epoches$\r\n",
        "\r\n",
        "> For this Setting I used 3 layer Deep Neural Network Model. In the first Layer, I used the SiLU activation function. Then in the second layer, I used the LeakyReLU activation and In the final layer, I used again LeakyReLU as activation.\r\n",
        "\r\n",
        "\r\n",
        "> In the first Layer I used 200 as hidden layer value, in the second layer I used 100 as Hidden Layer value, and in the third 50 as hidden layer value.\r\n",
        "\r\n",
        "> After Implementing I found **84.37%** accuracy with this setting.\r\n",
        "\r\n",
        "\r\n",
        "\r\n",
        "\r\n",
        "           \r\n",
        "\r\n"
      ]
    },
    {
      "cell_type": "code",
      "metadata": {
        "id": "hDNlsNjGVdhp"
      },
      "source": [
        "#setting hpt 4\n",
        "#HyperParameterTuning44\n",
        "batch_size = 450\n",
        "num_iters = 11000\n",
        "input_dim = 28*28 # num_features = 784\n",
        "output_dim = 10\n",
        "num_hidden = 200\n",
        "num_hidden1 = 100\n",
        "num_hidden2 = 50\n",
        "learning_rate = 0.0009\n",
        "# Device\n",
        "device = torch.device(\"cuda:0\" if torch.cuda.is_available() else \"cpu\")"
      ],
      "execution_count": null,
      "outputs": []
    },
    {
      "cell_type": "markdown",
      "metadata": {
        "id": "DAlWgaiGxRV1"
      },
      "source": [
        "**Sending data to train and test loader**"
      ]
    },
    {
      "cell_type": "code",
      "metadata": {
        "id": "_cMsCdmyVkYk"
      },
      "source": [
        "# split data 10% for testing\n",
        "test_size = 0.1\n",
        "train_data[0]\n",
        "# obtain training indices that will be used for validation\n",
        "num_train = len(train_data)\n",
        "\n",
        "# mix data\n",
        "# index of num of train\n",
        "indices = list(range(num_train))\n",
        "#print(indices)\n",
        "# random the index\n",
        "np.random.shuffle(indices)\n",
        "split = int(np.floor(test_size * num_train))\n",
        "#print(split)\n",
        "# divied into two part\n",
        "train_idx, test_idx = indices[split:], indices[:split]\n",
        "#print(train_idx)\n",
        "#print(test_idx)\n",
        "\n",
        "# define the sampler\n",
        "train_sampler = SubsetRandomSampler(train_idx)\n",
        "test_sampler = SubsetRandomSampler(test_idx)\n",
        "#print(train_sampler)\n",
        "#print(test_sampler)\n",
        "# prepare loaders\n",
        "train_loader = torch.utils.data.DataLoader(\n",
        "    train_data, batch_size=batch_size,\n",
        "    sampler=train_sampler)\n",
        "\n",
        "test_loader = torch.utils.data.DataLoader(\n",
        "    test_data, batch_size=batch_size,\n",
        "    sampler=test_sampler)\n",
        "\n",
        "#print(\"Train dataloader:{}\".format(len(train_loader)))\n",
        "#print(\"Test dataloader:{}\".format(len(test_loader)))"
      ],
      "execution_count": null,
      "outputs": []
    },
    {
      "cell_type": "code",
      "metadata": {
        "colab": {
          "base_uri": "https://localhost:8080/"
        },
        "id": "UGfYxOKfV0OT",
        "outputId": "837682ed-d9f0-42a9-da99-9282c5478942"
      },
      "source": [
        "num_epochs = num_iters / (len(train_data) / batch_size)\n",
        "num_epochs = int(num_epochs)\n",
        "print(num_epochs)\n",
        "print(len(train_idx))\n",
        "print(len(test_idx))"
      ],
      "execution_count": null,
      "outputs": [
        {
          "output_type": "stream",
          "text": [
            "90\n",
            "49418\n",
            "5490\n"
          ],
          "name": "stdout"
        }
      ]
    },
    {
      "cell_type": "code",
      "metadata": {
        "id": "wp39ULPYSooZ"
      },
      "source": [
        "#hp4\n",
        "class DeepNeuralNetworkModel(nn.Module):\n",
        "    def __init__(self, input_size, num_classes, num_hidden):\n",
        "        super().__init__()\n",
        "        ### 1st hidden layer: 784 --> 100\n",
        "        self.linear_1 = nn.Linear(input_size, num_hidden)\n",
        "        ### Non-linearity in 1st hidden layer\n",
        "        self.relu_1 = nn.SiLU()\n",
        "\n",
        "        ### 2nd hidden layer: 100 --> 100\n",
        "        self.linear_2 = nn.Linear(num_hidden, num_hidden1)\n",
        "        ### Non-linearity in 2nd hidden layer\n",
        "        self.relu_2 = nn.LeakyReLU()\n",
        "\n",
        "        ### 3rd hidden layer: 100 --> 100\n",
        "        self.linear_3 = nn.Linear(num_hidden1, num_hidden2)\n",
        "        ### Non-linearity in 3rd hidden layer\n",
        "        self.relu_3 = nn.LeakyReLU()\n",
        "        \n",
        "\n",
        "        ### Output layer: 100 --> 10\n",
        "        self.linear_out = nn.Linear(num_hidden2, num_classes)\n",
        "\n",
        "    def forward(self, x):\n",
        "        ### 1st hidden layer\n",
        "        out  = self.linear_1(x)\n",
        "        ### Non-linearity in 1st hidden layer\n",
        "        out = self.relu_1(out)\n",
        "        \n",
        "        ### 2nd hidden layer\n",
        "        out  = self.linear_2(out)\n",
        "        ### Non-linearity in 2nd hidden layer\n",
        "        out = self.relu_2(out)\n",
        "\n",
        "        ### 3rd hidden layer\n",
        "        out  = self.linear_3(out)\n",
        "        out = self.relu_3(out)\n",
        "        \n",
        "        # Linear layer (output)\n",
        "        probas  = self.linear_out(out)\n",
        "        return probas"
      ],
      "execution_count": null,
      "outputs": []
    },
    {
      "cell_type": "code",
      "metadata": {
        "colab": {
          "base_uri": "https://localhost:8080/"
        },
        "id": "eaYEyEOnW8jX",
        "outputId": "df104e00-8f5f-471e-9150-273df1a24baa"
      },
      "source": [
        "'''\n",
        "INSTANTIATE MODEL CLASS\n",
        "'''\n",
        "model = DeepNeuralNetworkModel(input_size=input_dim,\n",
        "                                num_classes=output_dim,\n",
        "                                num_hidden = num_hidden)\n",
        "\n",
        "#To enable GPU\n",
        "model.to(device)"
      ],
      "execution_count": null,
      "outputs": [
        {
          "output_type": "execute_result",
          "data": {
            "text/plain": [
              "DeepNeuralNetworkModel(\n",
              "  (linear_1): Linear(in_features=784, out_features=200, bias=True)\n",
              "  (relu_1): SiLU()\n",
              "  (linear_2): Linear(in_features=200, out_features=100, bias=True)\n",
              "  (relu_2): LeakyReLU(negative_slope=0.01)\n",
              "  (linear_3): Linear(in_features=100, out_features=50, bias=True)\n",
              "  (relu_3): LeakyReLU(negative_slope=0.01)\n",
              "  (linear_out): Linear(in_features=50, out_features=10, bias=True)\n",
              ")"
            ]
          },
          "metadata": {
            "tags": []
          },
          "execution_count": 31
        }
      ]
    },
    {
      "cell_type": "markdown",
      "metadata": {
        "id": "ydEKZRBWxkRR"
      },
      "source": [
        "**For optimizer I used Adam**\r\n",
        "\r\n",
        "The Adam optimization algorithm is an extension to stochastic gradient descent that has recently seen broader adoption for deep learning applications in computer vision and natural language processing."
      ]
    },
    {
      "cell_type": "code",
      "metadata": {
        "colab": {
          "base_uri": "https://localhost:8080/"
        },
        "id": "VyOl54aw43yO",
        "outputId": "7b052698-ca21-47f1-bf63-95ba57d0ab8f"
      },
      "source": [
        "# INSTANTIATE OPTIMIZER CLASS\n",
        "#optimizer = torch.optim.SGD(model.parameters(), lr=learning_rate)\n",
        "optimizer = torch.optim.Adam(model.parameters(), lr=learning_rate)\n",
        "train_data[18][0].numpy().shape"
      ],
      "execution_count": null,
      "outputs": [
        {
          "output_type": "execute_result",
          "data": {
            "text/plain": [
              "(1, 28, 28)"
            ]
          },
          "metadata": {
            "tags": []
          },
          "execution_count": 32
        }
      ]
    },
    {
      "cell_type": "code",
      "metadata": {
        "id": "HDDxk4MvXiGk"
      },
      "source": [
        "criterion = nn.CrossEntropyLoss()"
      ],
      "execution_count": null,
      "outputs": []
    },
    {
      "cell_type": "code",
      "metadata": {
        "colab": {
          "base_uri": "https://localhost:8080/"
        },
        "id": "ekw5uE0_h66S",
        "outputId": "dabba95c-87e8-4db0-f06c-5680c445d381"
      },
      "source": [
        "#hp4\n",
        "iter = 0\n",
        "for epoch in range(num_epochs):\n",
        "    for i, (images, labels) in enumerate(train_loader):\n",
        "\n",
        "        images = images.view(-1, 28*28).to(device)\n",
        "        labels = labels.to(device)\n",
        "\n",
        "        # Clear gradients w.r.t. parameters\n",
        "        optimizer.zero_grad()\n",
        "\n",
        "        # Forward pass to get output/logits\n",
        "        outputs = model(images) \n",
        "\n",
        "        # Calculate Loss: softmax --> cross entropy loss\n",
        "        loss = criterion(outputs, labels)\n",
        "\n",
        "        # Getting gradients w.r.t. parameters\n",
        "        loss.backward()\n",
        "\n",
        "        # Updating parameters\n",
        "        optimizer.step()\n",
        "\n",
        "        iter += 1\n",
        "\n",
        "        if iter % 500 == 0:\n",
        "            # Calculate Accuracy         \n",
        "            correct = 0\n",
        "            total = 0\n",
        "            # Iterate through test dataset\n",
        "            for images, labels in test_loader:\n",
        "               \n",
        "                images = images.view(-1, 28*28).to(device)\n",
        "\n",
        "                # Forward pass only to get logits/output\n",
        "                outputs = model(images)\n",
        "\n",
        "                # Get predictions from the maximum value\n",
        "                _, predicted = torch.max(outputs, 1)\n",
        "\n",
        "                # Total number of labels\n",
        "                total += labels.size(0)\n",
        "\n",
        "\n",
        "                # Total correct predictions\n",
        "                if torch.cuda.is_available():\n",
        "                    correct += (predicted.cpu() == labels.cpu()).sum() \n",
        "                else:\n",
        "                    correct += (predicted == labels).sum()\n",
        "\n",
        "            accuracy = 100 * correct.item() / total\n",
        "\n",
        "            # Print Loss\n",
        "            print('Iteration: {}. Loss: {}. Accuracy: {}'.format(iter, loss.item(), accuracy))"
      ],
      "execution_count": null,
      "outputs": [
        {
          "output_type": "stream",
          "text": [
            "Iteration: 500. Loss: 1.745337963104248. Accuracy: 35.39162112932605\n",
            "Iteration: 1000. Loss: 1.433962106704712. Accuracy: 50.21857923497268\n",
            "Iteration: 1500. Loss: 1.2898684740066528. Accuracy: 58.08743169398907\n",
            "Iteration: 2000. Loss: 1.117817759513855. Accuracy: 63.36976320582878\n",
            "Iteration: 2500. Loss: 0.9566260576248169. Accuracy: 67.85063752276866\n",
            "Iteration: 3000. Loss: 1.0002117156982422. Accuracy: 67.3224043715847\n",
            "Iteration: 3500. Loss: 0.7941926121711731. Accuracy: 72.55009107468123\n",
            "Iteration: 4000. Loss: 0.9363938570022583. Accuracy: 74.26229508196721\n",
            "Iteration: 4500. Loss: 0.7328470945358276. Accuracy: 72.9143897996357\n",
            "Iteration: 5000. Loss: 0.7108138799667358. Accuracy: 73.35154826958106\n",
            "Iteration: 5500. Loss: 0.606046736240387. Accuracy: 77.57741347905282\n",
            "Iteration: 6000. Loss: 0.7516129016876221. Accuracy: 78.56102003642987\n",
            "Iteration: 6500. Loss: 0.5880290865898132. Accuracy: 76.39344262295081\n",
            "Iteration: 7000. Loss: 0.5122608542442322. Accuracy: 79.1256830601093\n",
            "Iteration: 7500. Loss: 0.5798940658569336. Accuracy: 79.4535519125683\n",
            "Iteration: 8000. Loss: 0.610085129737854. Accuracy: 79.74499089253187\n",
            "Iteration: 8500. Loss: 0.5069822072982788. Accuracy: 81.73041894353369\n",
            "Iteration: 9000. Loss: 0.4665925204753876. Accuracy: 83.18761384335154\n",
            "Iteration: 9500. Loss: 0.5234276652336121. Accuracy: 84.37158469945355\n"
          ],
          "name": "stdout"
        }
      ]
    },
    {
      "cell_type": "markdown",
      "metadata": {
        "id": "QQ_6JOHdc8dv"
      },
      "source": [
        "##Case 04\r\n",
        "  I took  **batch size**,**iteration** and **learning rate** in accordance of **450,11000,0.0009**.The length of the dataset was 54908. So,\r\n",
        "\r\n",
        "> $epoch$ $number = (11000*450)/54908 = 90 epoches$\r\n",
        "\r\n",
        "> For this Setting I used 3 layer Deep Neural Network Model. In the first Layer, I used the SiLU activation function. Then in the second layer, I used the RReLU activation and In the final layer, I used LeakyReLU as activation.\r\n",
        "\r\n",
        "\r\n",
        "> In the first Layer I used 200 as hidden layer value, in the second layer I used 100 as Hidden Layer value, and in the third 50 as hidden layer value.\r\n",
        "\r\n",
        "> After Implementing I found **77.85%** accuracy with this setting.\r\n",
        "\r\n",
        "\r\n",
        "\r\n",
        "           \r\n",
        "\r\n"
      ]
    },
    {
      "cell_type": "code",
      "metadata": {
        "id": "-Wqo9CnEVRSR"
      },
      "source": [
        "#setting hpt 5\n",
        "batch_size = 450\n",
        "num_iters = 11000\n",
        "input_dim = 28*28 # num_features = 784\n",
        "output_dim = 10\n",
        "num_hidden = 200\n",
        "num_hidden1 = 100\n",
        "num_hidden2 = 50\n",
        "learning_rate = 0.0009\n",
        "num_hidden = 100\n",
        "# Device\n",
        "device = torch.device(\"cuda:0\" if torch.cuda.is_available() else \"cpu\")"
      ],
      "execution_count": null,
      "outputs": []
    },
    {
      "cell_type": "markdown",
      "metadata": {
        "id": "l_Lr_FAPxS5K"
      },
      "source": [
        "**Sending data to train and test loader**"
      ]
    },
    {
      "cell_type": "code",
      "metadata": {
        "id": "i0R15Fu4Vkpy"
      },
      "source": [
        "# split data 10% for testing\n",
        "test_size = 0.1\n",
        "train_data[0]\n",
        "# obtain training indices that will be used for validation\n",
        "num_train = len(train_data)\n",
        "\n",
        "# mix data\n",
        "# index of num of train\n",
        "indices = list(range(num_train))\n",
        "#print(indices)\n",
        "# random the index\n",
        "np.random.shuffle(indices)\n",
        "split = int(np.floor(test_size * num_train))\n",
        "#print(split)\n",
        "# divied into two part\n",
        "train_idx, test_idx = indices[split:], indices[:split]\n",
        "#print(train_idx)\n",
        "#print(test_idx)\n",
        "\n",
        "# define the sampler\n",
        "train_sampler = SubsetRandomSampler(train_idx)\n",
        "test_sampler = SubsetRandomSampler(test_idx)\n",
        "#print(train_sampler)\n",
        "#print(test_sampler)\n",
        "# prepare loaders\n",
        "train_loader = torch.utils.data.DataLoader(\n",
        "    train_data, batch_size=batch_size,\n",
        "    sampler=train_sampler)\n",
        "\n",
        "test_loader = torch.utils.data.DataLoader(\n",
        "    test_data, batch_size=batch_size,\n",
        "    sampler=test_sampler)\n",
        "\n",
        "#print(\"Train dataloader:{}\".format(len(train_loader)))\n",
        "#print(\"Test dataloader:{}\".format(len(test_loader)))"
      ],
      "execution_count": null,
      "outputs": []
    },
    {
      "cell_type": "code",
      "metadata": {
        "colab": {
          "base_uri": "https://localhost:8080/"
        },
        "id": "cKowSb_QV1qT",
        "outputId": "837682ed-d9f0-42a9-da99-9282c5478942"
      },
      "source": [
        "num_epochs = num_iters / (len(train_data) / batch_size)\n",
        "num_epochs = int(num_epochs)\n",
        "print(num_epochs)\n",
        "print(len(train_idx))\n",
        "print(len(test_idx))"
      ],
      "execution_count": null,
      "outputs": [
        {
          "output_type": "stream",
          "text": [
            "90\n",
            "49418\n",
            "5490\n"
          ],
          "name": "stdout"
        }
      ]
    },
    {
      "cell_type": "code",
      "metadata": {
        "id": "69Z61fqL43yN"
      },
      "source": [
        "#hp5\n",
        "class DeepNeuralNetworkModel(nn.Module):\n",
        "    def __init__(self, input_size, num_classes, num_hidden):\n",
        "        super().__init__()\n",
        "        ### 1st hidden layer: 784 --> 100\n",
        "        self.linear_1 = nn.Linear(input_size, num_hidden)\n",
        "        ### Non-linearity in 1st hidden layer\n",
        "        self.relu_1 = nn.SiLU()\n",
        "\n",
        "        ### 2nd hidden layer: 100 --> 100\n",
        "        self.linear_2 = nn.Linear(num_hidden, num_hidden1)\n",
        "        ### Non-linearity in 2nd hidden layer\n",
        "        self.relu_2 = nn.RReLU()\n",
        "\n",
        "        ### 3rd hidden layer: 100 --> 100\n",
        "        self.linear_3 = nn.Linear(num_hidden1, num_hidden2)\n",
        "        ### Non-linearity in 3rd hidden layer\n",
        "        self.relu_3 = nn.LeakyReLU()\n",
        "\n",
        "        ### Output layer: 100 --> 10\n",
        "        self.linear_out = nn.Linear(num_hidden2, num_classes)\n",
        "\n",
        "    def forward(self, x):\n",
        "        ### 1st hidden layer\n",
        "        out  = self.linear_1(x)\n",
        "        ### Non-linearity in 1st hidden layer\n",
        "        out = self.relu_1(out)\n",
        "        \n",
        "        ### 2nd hidden layer\n",
        "        out  = self.linear_2(out)\n",
        "        ### Non-linearity in 2nd hidden layer\n",
        "        out = self.relu_2(out)\n",
        "\n",
        "        ### 3rd hidden layer\n",
        "        out  = self.linear_3(out)\n",
        "        ### Non-linearity in 3rd hidden layer\n",
        "        out = self.relu_3(out)\n",
        "        \n",
        "        # Linear layer (output)\n",
        "        probas  = self.linear_out(out)\n",
        "        return probas"
      ],
      "execution_count": null,
      "outputs": []
    },
    {
      "cell_type": "code",
      "metadata": {
        "colab": {
          "base_uri": "https://localhost:8080/"
        },
        "id": "DGvNVHDGW8sE",
        "outputId": "df104e00-8f5f-471e-9150-273df1a24baa"
      },
      "source": [
        "'''\n",
        "INSTANTIATE MODEL CLASS\n",
        "'''\n",
        "model = DeepNeuralNetworkModel(input_size=input_dim,\n",
        "                                num_classes=output_dim,\n",
        "                                num_hidden = num_hidden)\n",
        "\n",
        "#To enable GPU\n",
        "model.to(device)"
      ],
      "execution_count": null,
      "outputs": [
        {
          "output_type": "execute_result",
          "data": {
            "text/plain": [
              "DeepNeuralNetworkModel(\n",
              "  (linear_1): Linear(in_features=784, out_features=100, bias=True)\n",
              "  (relu_1): SiLU()\n",
              "  (linear_2): Linear(in_features=100, out_features=100, bias=True)\n",
              "  (relu_2): RReLU(lower=0.125, upper=0.3333333333333333)\n",
              "  (linear_3): Linear(in_features=100, out_features=50, bias=True)\n",
              "  (relu_3): LeakyReLU(negative_slope=0.01)\n",
              "  (linear_out): Linear(in_features=50, out_features=10, bias=True)\n",
              ")"
            ]
          },
          "metadata": {
            "tags": []
          },
          "execution_count": 38
        }
      ]
    },
    {
      "cell_type": "markdown",
      "metadata": {
        "id": "LUNZynzUxljA"
      },
      "source": [
        "**For optimizer I used Adam**\r\n",
        "\r\n",
        "The Adam optimization algorithm is an extension to stochastic gradient descent that has recently seen broader adoption for deep learning applications in computer vision and natural language processing."
      ]
    },
    {
      "cell_type": "code",
      "metadata": {
        "colab": {
          "base_uri": "https://localhost:8080/"
        },
        "id": "i3MxhlPtXdiS",
        "outputId": "7b052698-ca21-47f1-bf63-95ba57d0ab8f"
      },
      "source": [
        "# INSTANTIATE OPTIMIZER CLASS\n",
        "#optimizer = torch.optim.SGD(model.parameters(), lr=learning_rate)\n",
        "optimizer = torch.optim.Adam(model.parameters(), lr=learning_rate)\n",
        "train_data[18][0].numpy().shape"
      ],
      "execution_count": null,
      "outputs": [
        {
          "output_type": "execute_result",
          "data": {
            "text/plain": [
              "(1, 28, 28)"
            ]
          },
          "metadata": {
            "tags": []
          },
          "execution_count": 39
        }
      ]
    },
    {
      "cell_type": "code",
      "metadata": {
        "id": "ew_ifzU5XiUL"
      },
      "source": [
        "criterion = nn.CrossEntropyLoss()"
      ],
      "execution_count": null,
      "outputs": []
    },
    {
      "cell_type": "code",
      "metadata": {
        "colab": {
          "base_uri": "https://localhost:8080/"
        },
        "id": "QouWTu3l43yQ",
        "outputId": "9dfe0422-13d0-48f8-e8f3-b19de658b79c"
      },
      "source": [
        "#hp5\n",
        "iter = 0\n",
        "for epoch in range(num_epochs):\n",
        "    for i, (images, labels) in enumerate(train_loader):\n",
        "\n",
        "        images = images.view(-1, 28*28).to(device)\n",
        "        labels = labels.to(device)\n",
        "\n",
        "        # Clear g radients w.r.t. parameters\n",
        "        optimizer.zero_grad()\n",
        "\n",
        "        # Forward pass to get output/logits\n",
        "        outputs = model(images) \n",
        "\n",
        "        # Calculate Loss: softmax --> cross entropy loss\n",
        "        loss = criterion(outputs, labels)\n",
        "\n",
        "        # Getting gradients w.r.t. parameters\n",
        "        loss.backward()\n",
        "\n",
        "        # Updating parameters\n",
        "        optimizer.step()\n",
        "\n",
        "        iter += 1\n",
        "\n",
        "        if iter % 500 == 0:\n",
        "            # Calculate Accuracy         \n",
        "            correct = 0\n",
        "            total = 0\n",
        "            # Iterate through test dataset\n",
        "            for images, labels in test_loader:\n",
        "               \n",
        "                images = images.view(-1, 28*28).to(device)\n",
        "\n",
        "                # Forward pass only to get logits/output\n",
        "                outputs = model(images)\n",
        "\n",
        "                # Get predictions from the maximum value\n",
        "                _, predicted = torch.max(outputs, 1)\n",
        "\n",
        "                # Total number of labels\n",
        "                total += labels.size(0)\n",
        "\n",
        "\n",
        "                # Total correct predictions\n",
        "                if torch.cuda.is_available():\n",
        "                    correct += (predicted.cpu() == labels.cpu()).sum() \n",
        "                else:\n",
        "                    correct += (predicted == labels).sum()\n",
        "\n",
        "            accuracy = 100 * correct.item() / total\n",
        "\n",
        "            # Print Loss\n",
        "            print('Iteration: {}. Loss: {}. Accuracy: {}'.format(iter, loss.item(), accuracy))"
      ],
      "execution_count": null,
      "outputs": [
        {
          "output_type": "stream",
          "text": [
            "Iteration: 500. Loss: 1.7628687620162964. Accuracy: 38.59744990892532\n",
            "Iteration: 1000. Loss: 1.568237066268921. Accuracy: 45.3551912568306\n",
            "Iteration: 1500. Loss: 1.4109976291656494. Accuracy: 53.77049180327869\n",
            "Iteration: 2000. Loss: 1.2420231103897095. Accuracy: 55.77413479052823\n",
            "Iteration: 2500. Loss: 1.0742486715316772. Accuracy: 60.54644808743169\n",
            "Iteration: 3000. Loss: 1.1234596967697144. Accuracy: 62.021857923497265\n",
            "Iteration: 3500. Loss: 1.0690921545028687. Accuracy: 65.77413479052824\n",
            "Iteration: 4000. Loss: 0.8893523216247559. Accuracy: 67.959927140255\n",
            "Iteration: 4500. Loss: 0.8804792165756226. Accuracy: 70.01821493624772\n",
            "Iteration: 5000. Loss: 0.8526207208633423. Accuracy: 70.52823315118397\n",
            "Iteration: 5500. Loss: 0.920208215713501. Accuracy: 71.98542805100182\n",
            "Iteration: 6000. Loss: 0.8122598528862. Accuracy: 71.85792349726776\n",
            "Iteration: 6500. Loss: 0.9446526169776917. Accuracy: 72.78688524590164\n",
            "Iteration: 7000. Loss: 0.6607643365859985. Accuracy: 72.47723132969034\n",
            "Iteration: 7500. Loss: 0.6045572757720947. Accuracy: 74.99089253187614\n",
            "Iteration: 8000. Loss: 0.7558666467666626. Accuracy: 76.08378870673953\n",
            "Iteration: 8500. Loss: 0.6114655137062073. Accuracy: 77.3224043715847\n",
            "Iteration: 9000. Loss: 0.5642467737197876. Accuracy: 78.72495446265938\n",
            "Iteration: 9500. Loss: 0.5912299752235413. Accuracy: 77.85063752276866\n"
          ],
          "name": "stdout"
        }
      ]
    },
    {
      "cell_type": "markdown",
      "metadata": {
        "id": "B0dqei4Jhldw"
      },
      "source": [
        "## Comparison Table"
      ]
    },
    {
      "cell_type": "markdown",
      "metadata": {
        "id": "R_3fOruQHKpi"
      },
      "source": [
        "\r\n",
        "\r\n",
        "**NumtaDB Dataset Comparision Table in Different Settings:-**\r\n",
        "\r\n",
        "| Settings        | Batch Size     | Iteration Number|Learing rate   |Epochs|Number of Layer|Hidden Layer 01|Hidden Layer 02|Hidden Layer 03|Activation Function 01|Activation Function 02|Activation Function 03|Accuracy(%)|\r\n",
        "| :------------- | :----------: | -----------: | ------------:|--------:|---------:|-------:|-------:|--------:|--------:|-----------:|--------:|-------:|\r\n",
        "|  1 | 400   | 12000 |0.0009   | 87 |3|200|100|50|LeakyReLU|LeakyReLU|ReLU|**82.16**|\r\n",
        "|  2 | 400   | 11000 |0.0009  | 80 |3|200|100|50|SiLU|LeakyReLU|ReLU|78.17|\r\n",
        "|  3 | 450  | 11000  |0.0009  | 90 |3|200|100|50|SiLU|LeakyReLU|LeakyReLU|**84.37**|\r\n",
        "|  4 | 450  | 11000  |0.0009  | 90 |3|200|100|50|SiLU|RReLU|LeakyReLU|77.85|\r\n"
      ]
    },
    {
      "cell_type": "code",
      "metadata": {
        "id": "0WKWZs6VSoof",
        "outputId": "30232ffd-d9ba-449d-9c53-7f30611091ec"
      },
      "source": [
        "#loss2\n",
        "import matplotlib\n",
        "import matplotlib.pyplot as plt\n",
        "iteration_loss = [1.87,1.70,1.40,1.36,1.23,1.07,.98,.98,.86,.80,.91,.79,.69,.59,.63,.65,.65,.64,.57,.52,.47]\n",
        "print (iteration_loss)\n",
        "plt.plot(iteration_loss)\n",
        "plt.ylabel('Cross Entropy Loss')\n",
        "plt.xlabel('Iteration (in every 500)')\n",
        "plt.show()"
      ],
      "execution_count": null,
      "outputs": [
        {
          "output_type": "stream",
          "text": [
            "[1.87, 1.7, 1.4, 1.36, 1.23, 1.07, 0.98, 0.98, 0.86, 0.8, 0.91, 0.79, 0.69, 0.59, 0.63, 0.65, 0.65, 0.64, 0.57, 0.52, 0.47]\n"
          ],
          "name": "stdout"
        },
        {
          "output_type": "display_data",
          "data": {
            "image/png": "[encoded data removed]",
            "text/plain": [
              "<Figure size 432x288 with 1 Axes>"
            ]
          },
          "metadata": {
            "tags": [],
            "needs_background": "light"
          }
        }
      ]
    },
    {
      "cell_type": "code",
      "metadata": {
        "id": "Xt1I5870h3Wk",
        "outputId": "00c4b91d-8091-4460-8135-856de7738c51"
      },
      "source": [
        "#loss3\n",
        "import matplotlib\n",
        "import matplotlib.pyplot as plt\n",
        "iteration_loss = [1.78,1.57,1.27,1.17,1.19,1.01,.99,.91,.82,.78,.68,.75,.64,.61,.64,.66,.64,.54,.49]\n",
        "print (iteration_loss)\n",
        "plt.plot(iteration_loss)\n",
        "plt.ylabel('Cross Entropy Loss')\n",
        "plt.xlabel('Iteration (in every 500)')\n",
        "plt.show()"
      ],
      "execution_count": null,
      "outputs": [
        {
          "output_type": "stream",
          "text": [
            "[1.78, 1.57, 1.27, 1.17, 1.19, 1.01, 0.99, 0.91, 0.82, 0.78, 0.68, 0.75, 0.64, 0.61, 0.64, 0.66, 0.64, 0.54, 0.49]\n"
          ],
          "name": "stdout"
        },
        {
          "output_type": "display_data",
          "data": {
            "image/png": "[encoded data removed]",
            "text/plain": [
              "<Figure size 432x288 with 1 Axes>"
            ]
          },
          "metadata": {
            "tags": [],
            "needs_background": "light"
          }
        }
      ]
    },
    {
      "cell_type": "code",
      "metadata": {
        "id": "9twvG5EFLIdT",
        "outputId": "d1e52f31-5806-413c-fa5e-9dfccf08d9b1"
      },
      "source": [
        "#loss4\n",
        "import matplotlib\n",
        "import matplotlib.pyplot as plt\n",
        "iteration_loss = [1.74,1.43,1.28,1.11,.95,1.0,0.79,0.93,.73,.71,.60,.75,.58,.51,.57,.61,.50,.46,.52]\n",
        "print (iteration_loss)\n",
        "plt.plot(iteration_loss)\n",
        "plt.ylabel('Cross Entropy Loss')\n",
        "plt.xlabel('Iteration (in every 500)')\n",
        "plt.show()\n"
      ],
      "execution_count": null,
      "outputs": [
        {
          "output_type": "stream",
          "text": [
            "[1.74, 1.43, 1.28, 1.11, 0.95, 1.0, 0.79, 0.93, 0.73, 0.71, 0.6, 0.75, 0.58, 0.51, 0.57, 0.61, 0.5, 0.46, 0.52]\n"
          ],
          "name": "stdout"
        },
        {
          "output_type": "display_data",
          "data": {
            "image/png": "[encoded data removed]",
            "text/plain": [
              "<Figure size 432x288 with 1 Axes>"
            ]
          },
          "metadata": {
            "tags": [],
            "needs_background": "light"
          }
        }
      ]
    },
    {
      "cell_type": "code",
      "metadata": {
        "id": "__U36eaU9fD4",
        "outputId": "9bd2fcb0-5365-40ba-9abd-e00a9eb98fbf"
      },
      "source": [
        "#loss5\n",
        "import matplotlib\n",
        "import matplotlib.pyplot as plt\n",
        "iteration_loss = [1.76,1.56,1.41,1.24,1.07,1.12,1.06,.88,.88,.85,.92,.81,.94,.66,.60,.75,.61,.56,.59]\n",
        "print (iteration_loss)\n",
        "plt.plot(iteration_loss)\n",
        "plt.ylabel('Cross Entropy Loss')\n",
        "plt.xlabel('Iteration (in every 500)')\n",
        "plt.show()"
      ],
      "execution_count": null,
      "outputs": [
        {
          "output_type": "stream",
          "text": [
            "[1.76, 1.56, 1.41, 1.24, 1.07, 1.12, 1.06, 0.88, 0.88, 0.85, 0.92, 0.81, 0.94, 0.66, 0.6, 0.75, 0.61, 0.56, 0.59]\n"
          ],
          "name": "stdout"
        },
        {
          "output_type": "display_data",
          "data": {
            "image/png": "[encoded data removed]",
            "text/plain": [
              "<Figure size 432x288 with 1 Axes>"
            ]
          },
          "metadata": {
            "tags": [],
            "needs_background": "light"
          }
        }
      ]
    },
    {
      "cell_type": "code",
      "metadata": {
        "id": "82BZUHI7MCkX",
        "outputId": "ed790c7d-5adb-443e-93d3-25a07c196cdf"
      },
      "source": [
        "#acc2\n",
        "import matplotlib\n",
        "import matplotlib.pyplot as plt\n",
        "iteration_loss= [35.40,43.29,48.23,55.59,60.58,62.67,68.79,70.09,72.55,71.43,73.80,76.28,73.24,76.61,78.32,76.61,80.45,79.18,81.49,78.06,82.16]\n",
        "print (iteration_loss)\n",
        "plt.plot(iteration_loss,color=\"red\")\n",
        "plt.ylabel('Accuracy in percentage')\n",
        "plt.xlabel('Iteration (in every 500)')\n",
        "plt.show()"
      ],
      "execution_count": null,
      "outputs": [
        {
          "output_type": "stream",
          "text": [
            "[35.4, 43.29, 48.23, 55.59, 60.58, 62.67, 68.79, 70.09, 72.55, 71.43, 73.8, 76.28, 73.24, 76.61, 78.32, 76.61, 80.45, 79.18, 81.49, 78.06, 82.16]\n"
          ],
          "name": "stdout"
        },
        {
          "output_type": "display_data",
          "data": {
            "image/png": "[encoded data removed]",
            "text/plain": [
              "<Figure size 432x288 with 1 Axes>"
            ]
          },
          "metadata": {
            "tags": [],
            "needs_background": "light"
          }
        }
      ]
    },
    {
      "cell_type": "code",
      "metadata": {
        "id": "0LPrZrFwoGGd",
        "outputId": "01cfc153-f83e-4730-b6c5-d4db9d996b80"
      },
      "source": [
        "#acc3\n",
        "import matplotlib\n",
        "import matplotlib.pyplot as plt\n",
        "iteration_loss= [34.33,41.93,55.35,59.25,60.89,65.02,67.41,68.08,70.0,73.15,72.73,75.77,72.11,76.48,78.97,79.61,77.72,80.18,78.77]\n",
        "print (iteration_loss)\n",
        "plt.plot(iteration_loss,color=\"red\")\n",
        "\n",
        "plt.ylabel('Accuracy in percentage')\n",
        "plt.xlabel('Iteration (in every 500)')\n",
        "plt.show()"
      ],
      "execution_count": null,
      "outputs": [
        {
          "output_type": "stream",
          "text": [
            "[34.33, 41.93, 55.35, 59.25, 60.89, 65.02, 67.41, 68.08, 70.0, 73.15, 72.73, 75.77, 72.11, 76.48, 78.97, 79.61, 77.72, 80.18, 78.77]\n"
          ],
          "name": "stdout"
        },
        {
          "output_type": "display_data",
          "data": {
            "image/png": "[encoded data removed]",
            "text/plain": [
              "<Figure size 432x288 with 1 Axes>"
            ]
          },
          "metadata": {
            "tags": [],
            "needs_background": "light"
          }
        }
      ]
    },
    {
      "cell_type": "code",
      "metadata": {
        "id": "RnPmcN87Ow95",
        "outputId": "99d3e00f-6529-4a09-8cba-cf8c2b91cb19"
      },
      "source": [
        "#acc4\n",
        "import matplotlib\n",
        "import matplotlib.pyplot as plt\n",
        "iteration_loss= [35.39,50.21,58.08,63.36,67.85,67.32,72.55,74.26,72.91,73.35,77.57,78.56,76.39,79.12,79.45,79.74,81.73,83.18,84.37]\n",
        "print (iteration_loss)\n",
        "plt.plot(iteration_loss,color=\"red\")\n",
        "plt.ylabel('Accuracy in percentage')\n",
        "plt.xlabel('Iteration (in every 500)')\n",
        "plt.show()"
      ],
      "execution_count": null,
      "outputs": [
        {
          "output_type": "stream",
          "text": [
            "[35.39, 50.21, 58.08, 63.36, 67.85, 67.32, 72.55, 74.26, 72.91, 73.35, 77.57, 78.56, 76.39, 79.12, 79.45, 79.74, 81.73, 83.18, 84.37]\n"
          ],
          "name": "stdout"
        },
        {
          "output_type": "display_data",
          "data": {
            "image/png": "[encoded data removed]",
            "text/plain": [
              "<Figure size 432x288 with 1 Axes>"
            ]
          },
          "metadata": {
            "tags": [],
            "needs_background": "light"
          }
        }
      ]
    },
    {
      "cell_type": "code",
      "metadata": {
        "id": "7kX6gArT9fIF",
        "outputId": "4fc942f0-d346-4313-e84a-f08d31de0553"
      },
      "source": [
        "#acc5\n",
        "import matplotlib\n",
        "import matplotlib.pyplot as plt\n",
        "iteration_loss= [38.59,45.55,53.77,55.77,60.54,62.02,65.77,67.95,70.01,70.52,71.98,71.85,72.78,72.47,74.99,76.08,77.32,78.72,77.85]\n",
        "print (iteration_loss)\n",
        "plt.plot(iteration_loss,color=\"red\")\n",
        "plt.ylabel('Accuracy in percentage')\n",
        "plt.xlabel('Iteration (in every 500)')\n",
        "plt.show()"
      ],
      "execution_count": null,
      "outputs": [
        {
          "output_type": "stream",
          "text": [
            "[38.59, 45.55, 53.77, 55.77, 60.54, 62.02, 65.77, 67.95, 70.01, 70.52, 71.98, 71.85, 72.78, 72.47, 74.99, 76.08, 77.32, 78.72, 77.85]\n"
          ],
          "name": "stdout"
        },
        {
          "output_type": "display_data",
          "data": {
            "image/png": "[encoded data removed]",
            "text/plain": [
              "<Figure size 432x288 with 1 Axes>"
            ]
          },
          "metadata": {
            "tags": [],
            "needs_background": "light"
          }
        }
      ]
    },
    {
      "cell_type": "markdown",
      "metadata": {
        "id": "WYXgSF3vxtFO"
      },
      "source": [
        "#Comparision Graph between Loss and Accuracy"
      ]
    },
    {
      "cell_type": "markdown",
      "metadata": {
        "id": "KqXlYHPjdz60"
      },
      "source": [
        "**Case 1**\r\n",
        "<div align=\"center\">\r\n",
        "<img src=\"https://drive.google.com/uc?id=1wz4C5DZL-4HkJPFUnx4b_qvD2YH98Ebl\" width=\"300\">\r\n",
        "<img src=\"https://drive.google.com/uc?id=1QEMau3wrrG0NFAJunUtE14lmwGLLyF6o\"width=\"300\">\r\n",
        "<figcaption>figure 2: Accuracy and Loss in Case 1 </figcaption>"
      ]
    },
    {
      "cell_type": "markdown",
      "metadata": {
        "id": "2EQZo_bJeUiH"
      },
      "source": [
        "**Case 2**\r\n",
        "<div align=\"center\">\r\n",
        "<img src=\"https://drive.google.com/uc?id=1yqGP8XaV16PJ0-K7Ltx_o7HZBfNBaTf8\" width=\"300\">\r\n",
        "<img src=\"https://drive.google.com/uc?id=1hUx2kpBqXi4lYhpNYi4sFOFrnEx_qdwG\"width=\"300\">\r\n",
        "<figcaption>figure 3: Accuracy and Loss in Case 2 </figcaption>"
      ]
    },
    {
      "cell_type": "markdown",
      "metadata": {
        "id": "x-4uhoc-eVIA"
      },
      "source": [
        "**Case 3**\r\n",
        "<div align=\"center\">\r\n",
        "<img src=\"https://drive.google.com/uc?id=1ZWANYvTUTCn1HSi0fKWYoYI82mecLkkO\" width=\"300\">\r\n",
        "<img src=\"https://drive.google.com/uc?id=1IkcRcvphEX9w4hzzw8q7zHk4v-qR_kuW\"width=\"300\">\r\n",
        "<figcaption>figure 4: Accuracy and Loss in Case 3 </figcaption>"
      ]
    },
    {
      "cell_type": "markdown",
      "metadata": {
        "id": "IUIdednpeVdK"
      },
      "source": [
        "**Case 4**\r\n",
        "<div align=\"center\">\r\n",
        "<img src=\"https://drive.google.com/uc?id=1Dg9VoXTdglg9vHw3Oa6Tynx_I96uMBd4\" width=\"300\">\r\n",
        "<img src=\"https://drive.google.com/uc?id=1l28u5eBqfzKJy8ycFrKmdm34uvn7ETPw\"width=\"300\">\r\n",
        "<figcaption>figure 5: Accuracy and Loss in Case 4 </figcaption>"
      ]
    },
    {
      "cell_type": "markdown",
      "metadata": {
        "id": "yb5Ko0vfFoGl"
      },
      "source": [
        "#Best Model"
      ]
    },
    {
      "cell_type": "markdown",
      "metadata": {
        "id": "15k0fORHFtrY"
      },
      "source": [
        "**Hyper Parameter Values**\r\n",
        "\r\n",
        "$Batch$ $size = 450 $\r\n",
        "\r\n",
        "$Iteration =11000$\r\n",
        "\r\n",
        "$learning$ $Rate = 0.0009$\r\n",
        "\r\n",
        "$Hidden$ $layer$ $1$ = $200$\r\n",
        "\r\n",
        "$Hidden$ $layer$ $2$ = $100$\r\n",
        "\r\n",
        "$Hidden$ $layer$ $3$ = $50$\r\n",
        "\r\n",
        "$Activation$ $ 1$ = $SiLU$\r\n",
        "\r\n",
        "$Activation$ $ 2$ = $LeakyReLU$\r\n",
        "\r\n",
        "$Activation$ $ 3$ = $LeakyReLU$\r\n",
        "\r\n",
        "\r\n",
        "\r\n"
      ]
    },
    {
      "cell_type": "markdown",
      "metadata": {
        "id": "elH7wBmvGjmb"
      },
      "source": [
        "$Accuracy($%$) = 84.37$"
      ]
    },
    {
      "cell_type": "markdown",
      "metadata": {
        "id": "fEuCKatpIzRK"
      },
      "source": [
        "**My best Model able to predict 8 or 9 digits correctly out of 10 in my testing.**"
      ]
    },
    {
      "cell_type": "markdown",
      "metadata": {
        "id": "zBw6UFajL06w"
      },
      "source": [
        "**Model Saving Code**"
      ]
    },
    {
      "cell_type": "code",
      "metadata": {
        "id": "0r9IBotj43yQ"
      },
      "source": [
        "save_model = True\n",
        "\n",
        "if save_model is True:\n",
        "    # Saves only parameters\n",
        "    # wights & biases\n",
        "    torch.save(model.state_dict(), PATH + 'Namta_logistica5.pkl') "
      ],
      "execution_count": null,
      "outputs": []
    },
    {
      "cell_type": "markdown",
      "metadata": {
        "id": "BUlFN3cv2lwQ"
      },
      "source": [
        "**Load Image From Test Loader**"
      ]
    },
    {
      "cell_type": "code",
      "metadata": {
        "colab": {
          "base_uri": "https://localhost:8080/"
        },
        "id": "FpEljuZj43yR",
        "outputId": "532db4b3-074b-4f9e-8531-365bd05b858a"
      },
      "source": [
        "load_model = True\n",
        "\n",
        "if load_model is True:\n",
        "    model.load_state_dict(torch.load(PATH + 'Namta_logistica5.pkl'))\n",
        "    print('Trained Model Loaded')"
      ],
      "execution_count": null,
      "outputs": [
        {
          "output_type": "stream",
          "text": [
            "Trained Model Loaded\n"
          ],
          "name": "stdout"
        }
      ]
    },
    {
      "cell_type": "code",
      "metadata": {
        "colab": {
          "base_uri": "https://localhost:8080/",
          "height": 109
        },
        "id": "tx6znrT543yR",
        "outputId": "407cefe1-1d30-4d55-e114-4eb1296c50f0"
      },
      "source": [
        "#hp2\n",
        "for images, labels in test_loader:\n",
        "    break\n",
        "    \n",
        "fig, ax = plt.subplots(1, 10)\n",
        "for i in range(10):\n",
        "    ax[i].imshow(images[i].view(28, 28), cmap=matplotlib.cm.binary)\n",
        "\n",
        "\n",
        "plt.show()"
      ],
      "execution_count": null,
      "outputs": [
        {
          "output_type": "display_data",
          "data": {
            "image/png": "[encoded data removed]",
            "text/plain": [
              "<Figure size 432x288 with 10 Axes>"
            ]
          },
          "metadata": {
            "tags": [],
            "needs_background": "light"
          }
        }
      ]
    },
    {
      "cell_type": "code",
      "metadata": {
        "colab": {
          "base_uri": "https://localhost:8080/"
        },
        "id": "b35F1Zwh43yR",
        "outputId": "47d0e3ad-2e75-4f67-bca8-dd3a230b0989"
      },
      "source": [
        "#hp2\n",
        "predictions = model.forward(images[:10].view(-1, 28*28).to(device))\n",
        "predictions = torch.argmax(predictions, dim=1)\n",
        "print('Predicted labels', predictions.cpu().numpy())"
      ],
      "execution_count": null,
      "outputs": [
        {
          "output_type": "stream",
          "text": [
            "Predicted labels [3 1 8 9 7 7 2 1 8 9]\n"
          ],
          "name": "stdout"
        }
      ]
    },
    {
      "cell_type": "markdown",
      "metadata": {
        "id": "eBtsiW_Dwvia"
      },
      "source": [
        "# Drive Links for Train Models\n",
        "\n",
        "> **Setting 1:** [https://drive.google.com/file/d/1addecxE2zGxWMlk8e21_oWTNB1b0HYw8/view?usp=sharing](https://)\n",
        "\n",
        "> **Setting 2:** [https://drive.google.com/file/d/16YKTR8M2l_QC-Qz_pxiBJwJyYky0ytV2/view?usp=sharing](https://)\n",
        "\n",
        "> **Setting 3:** [https://drive.google.com/file/d/1q4eBzdVkNeIoTUdOn9WfrJRALtE8tC5L/view?usp=sharing](https://)\n",
        "\n",
        "> **Setting 4:** [https://drive.google.com/file/d/1dcFXdPY1K7lHqq68Mxy4TGvqJkx71Uhy/view?usp=sharing](https://)\n",
        "\n"
      ]
    }
  ]
}